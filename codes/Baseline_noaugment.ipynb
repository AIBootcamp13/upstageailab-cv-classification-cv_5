{
  "cells": [
    {
      "cell_type": "markdown",
      "metadata": {
        "id": "zkH9T_86lDSS"
      },
      "source": [
        "## 1. Prepare Environments\n",
        "\n",
        "* 데이터 폴더의 경로를 설정합니다.\n",
        "* 필요한 라이브러리를 import 합니다."
      ]
    },
    {
      "cell_type": "code",
      "execution_count": null,
      "metadata": {},
      "outputs": [],
      "source": [
        "### 한국어 설치 apt-get install에서 Error 발생 시, 'sudo' 명령어 추가해서 root 권한으로 실행.\n",
        "# !apt-get install fonts-nanum*\n",
        "# !fc-cache -fv"
      ]
    },
    {
      "cell_type": "code",
      "execution_count": null,
      "metadata": {},
      "outputs": [],
      "source": [
        "# utils\n",
        "import os\n",
        "from dotenv import load_dotenv\n",
        "import copy\n",
        "import time\n",
        "import logging\n",
        "from tqdm import tqdm\n",
        "import random\n",
        "import pandas as pd\n",
        "import numpy as np\n",
        "pd.set_option('display.max_rows',None) # 또는 숫자 지정\n",
        "pd.set_option('display.max_columns',None)\n",
        "\n",
        "from PIL import Image\n",
        "import matplotlib.pyplot as plt\n",
        "import matplotlib.font_manager as fm\n",
        "fe = fm.FontEntry(\n",
        "    fname='/usr/share/fonts/truetype/nanum/NanumBarunGothic.ttf', # ttf 파일 저장 경로\n",
        "    name='NanumBarunGothic' # 별칭\n",
        ")\n",
        "fm.fontManager.ttflist.insert(0,fe)\n",
        "plt.rcParams.update({'font.family' : 'NanumBarunGothic'}) # 한글 패치\n",
        "plt.rc('font', family='NanumBarunGothic')\n",
        "plt.rcParams['axes.unicode_minus'] =False # 음수 부호 안 깨지게\n",
        "\n",
        "# Machine Learning\n",
        "from sklearn.metrics import accuracy_score, f1_score\n",
        "\n",
        "# Deep Learning\n",
        "import torch\n",
        "import torch.nn as nn\n",
        "import torch.optim as optim\n",
        "import torch.optim.lr_scheduler as lr_scheduler\n",
        "from torchvision.datasets import ImageFolder\n",
        "from torch.utils.data import Dataset, DataLoader\n",
        "from torchvision import transforms\n",
        "import timm\n",
        "import torch.nn.init as init\n",
        "\n",
        "# Image Augmentation\n",
        "import albumentations as A\n",
        "from albumentations.pytorch import ToTensorV2\n",
        "from augraphy import *\n",
        "\n",
        "### random seed 고정 함수\n",
        "def set_seed(seed: int = 42):\n",
        "    \"\"\"모든 랜덤 시드를 고정합니다.\n",
        "\n",
        "    :param int seed: 고정할 시드 값, defaults to 42\n",
        "    \"\"\"\n",
        "    random.seed(seed)\n",
        "    np.random.seed(seed)\n",
        "\n",
        "    try:\n",
        "        torch.manual_seed(seed)\n",
        "        torch.cuda.manual_seed(seed)\n",
        "        torch.cuda.manual_seed_all(seed)  # 멀티 GPU용\n",
        "        \n",
        "        torch.backends.cudnn.deterministic = True\n",
        "        torch.backends.cudnn.benchmark = False\n",
        "    except ImportError:\n",
        "        pass  # torch가 설치되어 있지 않으면 무시"
      ]
    },
    {
      "cell_type": "code",
      "execution_count": 2,
      "metadata": {},
      "outputs": [
        {
          "name": "stdout",
          "output_type": "stream",
          "text": [
            "현재 jupyter notebook의 실행 경로: /data/ephemeral/home/upstageailab-cv-classification-cv_5/codes/practice\n"
          ]
        }
      ],
      "source": [
        "print(\"현재 jupyter notebook의 실행 경로:\", os.getcwd())"
      ]
    },
    {
      "cell_type": "code",
      "execution_count": 3,
      "metadata": {},
      "outputs": [
        {
          "data": {
            "text/plain": [
              "['resnet10t.c3_in1k',\n",
              " 'resnet14t.c3_in1k',\n",
              " 'resnet18.a1_in1k',\n",
              " 'resnet18.a2_in1k',\n",
              " 'resnet18.a3_in1k',\n",
              " 'resnet18.fb_ssl_yfcc100m_ft_in1k',\n",
              " 'resnet18.fb_swsl_ig1b_ft_in1k',\n",
              " 'resnet18.gluon_in1k',\n",
              " 'resnet18.tv_in1k',\n",
              " 'resnet18d.ra2_in1k',\n",
              " 'resnet26.bt_in1k',\n",
              " 'resnet26d.bt_in1k',\n",
              " 'resnet26t.ra2_in1k',\n",
              " 'resnet32ts.ra2_in1k',\n",
              " 'resnet33ts.ra2_in1k',\n",
              " 'resnet34.a1_in1k',\n",
              " 'resnet34.a2_in1k',\n",
              " 'resnet34.a3_in1k',\n",
              " 'resnet34.bt_in1k',\n",
              " 'resnet34.gluon_in1k',\n",
              " 'resnet34.tv_in1k',\n",
              " 'resnet34d.ra2_in1k',\n",
              " 'resnet50.a1_in1k',\n",
              " 'resnet50.a1h_in1k',\n",
              " 'resnet50.a2_in1k',\n",
              " 'resnet50.a3_in1k',\n",
              " 'resnet50.am_in1k',\n",
              " 'resnet50.b1k_in1k',\n",
              " 'resnet50.b2k_in1k',\n",
              " 'resnet50.bt_in1k',\n",
              " 'resnet50.c1_in1k',\n",
              " 'resnet50.c2_in1k',\n",
              " 'resnet50.d_in1k',\n",
              " 'resnet50.fb_ssl_yfcc100m_ft_in1k',\n",
              " 'resnet50.fb_swsl_ig1b_ft_in1k',\n",
              " 'resnet50.gluon_in1k',\n",
              " 'resnet50.ra_in1k',\n",
              " 'resnet50.ram_in1k',\n",
              " 'resnet50.tv2_in1k',\n",
              " 'resnet50.tv_in1k',\n",
              " 'resnet50_gn.a1h_in1k',\n",
              " 'resnet50c.gluon_in1k',\n",
              " 'resnet50d.a1_in1k',\n",
              " 'resnet50d.a2_in1k',\n",
              " 'resnet50d.a3_in1k',\n",
              " 'resnet50d.gluon_in1k',\n",
              " 'resnet50d.ra2_in1k',\n",
              " 'resnet50s.gluon_in1k',\n",
              " 'resnet51q.ra2_in1k',\n",
              " 'resnet61q.ra2_in1k',\n",
              " 'resnet101.a1_in1k',\n",
              " 'resnet101.a1h_in1k',\n",
              " 'resnet101.a2_in1k',\n",
              " 'resnet101.a3_in1k',\n",
              " 'resnet101.gluon_in1k',\n",
              " 'resnet101.tv2_in1k',\n",
              " 'resnet101.tv_in1k',\n",
              " 'resnet101c.gluon_in1k',\n",
              " 'resnet101d.gluon_in1k',\n",
              " 'resnet101d.ra2_in1k',\n",
              " 'resnet101s.gluon_in1k',\n",
              " 'resnet152.a1_in1k',\n",
              " 'resnet152.a1h_in1k',\n",
              " 'resnet152.a2_in1k',\n",
              " 'resnet152.a3_in1k',\n",
              " 'resnet152.gluon_in1k',\n",
              " 'resnet152.tv2_in1k',\n",
              " 'resnet152.tv_in1k',\n",
              " 'resnet152c.gluon_in1k',\n",
              " 'resnet152d.gluon_in1k',\n",
              " 'resnet152d.ra2_in1k',\n",
              " 'resnet152s.gluon_in1k',\n",
              " 'resnet200d.ra2_in1k',\n",
              " 'resnetaa50.a1h_in1k',\n",
              " 'resnetaa50d.d_in12k',\n",
              " 'resnetaa50d.sw_in12k',\n",
              " 'resnetaa50d.sw_in12k_ft_in1k',\n",
              " 'resnetaa101d.sw_in12k',\n",
              " 'resnetaa101d.sw_in12k_ft_in1k',\n",
              " 'resnetblur50.bt_in1k',\n",
              " 'resnetrs50.tf_in1k',\n",
              " 'resnetrs101.tf_in1k',\n",
              " 'resnetrs152.tf_in1k',\n",
              " 'resnetrs200.tf_in1k',\n",
              " 'resnetrs270.tf_in1k',\n",
              " 'resnetrs350.tf_in1k',\n",
              " 'resnetrs420.tf_in1k',\n",
              " 'resnetv2_50.a1h_in1k',\n",
              " 'resnetv2_50d_evos.ah_in1k',\n",
              " 'resnetv2_50d_gn.ah_in1k',\n",
              " 'resnetv2_50x1_bit.goog_distilled_in1k',\n",
              " 'resnetv2_50x1_bit.goog_in21k',\n",
              " 'resnetv2_50x1_bit.goog_in21k_ft_in1k',\n",
              " 'resnetv2_50x3_bit.goog_in21k',\n",
              " 'resnetv2_50x3_bit.goog_in21k_ft_in1k',\n",
              " 'resnetv2_101.a1h_in1k',\n",
              " 'resnetv2_101x1_bit.goog_in21k',\n",
              " 'resnetv2_101x1_bit.goog_in21k_ft_in1k',\n",
              " 'resnetv2_101x3_bit.goog_in21k',\n",
              " 'resnetv2_101x3_bit.goog_in21k_ft_in1k',\n",
              " 'resnetv2_152x2_bit.goog_in21k',\n",
              " 'resnetv2_152x2_bit.goog_in21k_ft_in1k',\n",
              " 'resnetv2_152x2_bit.goog_teacher_in21k_ft_in1k',\n",
              " 'resnetv2_152x2_bit.goog_teacher_in21k_ft_in1k_384',\n",
              " 'resnetv2_152x4_bit.goog_in21k',\n",
              " 'resnetv2_152x4_bit.goog_in21k_ft_in1k']"
            ]
          },
          "execution_count": 3,
          "metadata": {},
          "output_type": "execute_result"
        }
      ],
      "source": [
        "timm.list_models(filter=\"resnet*\", pretrained=True)"
      ]
    },
    {
      "cell_type": "code",
      "execution_count": 4,
      "metadata": {},
      "outputs": [
        {
          "name": "stdout",
          "output_type": "stream",
          "text": [
            "⚙️ Data Directory Path: /data/ephemeral/home/upstageailab-cv-classification-cv_5/data\n",
            "⚙️ Device : cuda\n",
            "⌚ 실험 시간: 2507010327\n"
          ]
        },
        {
          "name": "stderr",
          "output_type": "stream",
          "text": [
            "\u001b[34m\u001b[1mwandb\u001b[0m: Currently logged in as: \u001b[33mskiersong9\u001b[0m (\u001b[33mskiersong\u001b[0m) to \u001b[32mhttps://api.wandb.ai\u001b[0m. Use \u001b[1m`wandb login --relogin`\u001b[0m to force relogin\n"
          ]
        },
        {
          "name": "stdout",
          "output_type": "stream",
          "text": [
            "📢 run name: resnetrs101.tf_in1k-opt_Adam-img224-aug_0-2507010210-0002\n"
          ]
        },
        {
          "data": {
            "text/html": [
              "Tracking run with wandb version 0.20.1"
            ],
            "text/plain": [
              "<IPython.core.display.HTML object>"
            ]
          },
          "metadata": {},
          "output_type": "display_data"
        },
        {
          "data": {
            "text/html": [
              "Run data is saved locally in <code>/data/ephemeral/home/upstageailab-cv-classification-cv_5/codes/practice/wandb/run-20250701_032726-mfvyiget</code>"
            ],
            "text/plain": [
              "<IPython.core.display.HTML object>"
            ]
          },
          "metadata": {},
          "output_type": "display_data"
        },
        {
          "data": {
            "text/html": [
              "Syncing run <strong><a href='https://wandb.ai/skiersong/upstage-img-clf/runs/mfvyiget' target=\"_blank\">resnetrs101.tf_in1k-opt_Adam-img224-aug_0-2507010210-0002</a></strong> to <a href='https://wandb.ai/skiersong/upstage-img-clf' target=\"_blank\">Weights & Biases</a> (<a href='https://wandb.me/developer-guide' target=\"_blank\">docs</a>)<br>"
            ],
            "text/plain": [
              "<IPython.core.display.HTML object>"
            ]
          },
          "metadata": {},
          "output_type": "display_data"
        },
        {
          "data": {
            "text/html": [
              " View project at <a href='https://wandb.ai/skiersong/upstage-img-clf' target=\"_blank\">https://wandb.ai/skiersong/upstage-img-clf</a>"
            ],
            "text/plain": [
              "<IPython.core.display.HTML object>"
            ]
          },
          "metadata": {},
          "output_type": "display_data"
        },
        {
          "data": {
            "text/html": [
              " View run at <a href='https://wandb.ai/skiersong/upstage-img-clf/runs/mfvyiget' target=\"_blank\">https://wandb.ai/skiersong/upstage-img-clf/runs/mfvyiget</a>"
            ],
            "text/plain": [
              "<IPython.core.display.HTML object>"
            ]
          },
          "metadata": {},
          "output_type": "display_data"
        }
      ],
      "source": [
        "project_root = '/data/ephemeral/home/upstageailab-cv-classification-cv_5'\n",
        "data_dir = os.path.join(project_root, 'data')\n",
        "print(\"⚙️ Data Directory Path:\", data_dir)\n",
        "\n",
        "device = 'cpu'\n",
        "if torch.backends.mps.is_available():\n",
        "    device = torch.device('mps')\n",
        "elif torch.cuda.is_available():\n",
        "    device = torch.device('cuda')\n",
        "print(\"⚙️ Device :\",device)\n",
        "\n",
        "from zoneinfo import ZoneInfo\n",
        "from datetime import datetime\n",
        "CURRENT_TIME = datetime.now(ZoneInfo(\"Asia/Seoul\")).strftime(\"%y%m%d%H%M\")\n",
        "print(f\"⌚ 실험 시간: {CURRENT_TIME}\")\n",
        "\n",
        "CFG = {\n",
        "    'model_name': 'efficientvit_m5.r224_in1k', # timm model name\n",
        "    'pretrained': True, # timm pretrained 가중치 사용 여부\n",
        "    'fine_tuning': \"scratch\", # fine-tuning 방법론\n",
        "    # full : pretrained=True, pretrained가중치를 전부 재학습시킨다. \n",
        "    # head : pretrained=True, model backbone 부분은 freeze하고 head 부분을 재학습시킨다.\n",
        "    # custom : pretrained=True, backbone에서도 일부분을 재학습시킨다.\n",
        "    # scratch : pretrained=False, 모델 구조만 사용하고 모든 가중치를 처음부터 학습시킨다.\n",
        "    # Loss Function\n",
        "    'criterion': 'CrossEntropyLoss',\n",
        "    # optimizer name: SGD, RMSprop, Momentum, NAG, Adam, AdamW, NAdam, RAdam, Adafactor\n",
        "    # reference : https://www.notion.so/skier-song9/Pytorch-9cfee0520ed6468a94b024ea35e48018?source=copy_link#217c8d3f60f58044beeac55596433dc6\n",
        "    'optimizer_name': 'AdamW', \n",
        "    'lr': 1e-2, # learning rate\n",
        "    'weight_decay': 1e-4, # weight decay ratio\n",
        "    # scheduler_name : StepLR, ExponentialLR, CosineAnnealingLR, OneCycleLR, ReduceLROnPlateau\n",
        "    # reference : https://www.notion.so/skier-song9/Pytorch-9cfee0520ed6468a94b024ea35e48018?source=copy_link#1d2c8d3f60f58026b71ad399ead029a9\n",
        "    'scheduler_name': 'OneCycleLR',\n",
        "    \n",
        "    # 기타 변수들\n",
        "    'random_seed': 256, \n",
        "    'n_folds': 5, # validation set, cross-validation 시 fold의 개수\n",
        "    'val_split_ratio': 0.15, # train-val split 비율\n",
        "    'stratify': True, # validation set 분할 시 stratify 전략 사용 여부\n",
        "    'image_size': 224, # 만약 multi-scale train/test 시 None으로 설정\n",
        "\n",
        "    # normalization mean, std\n",
        "    # full file tuning 시 0.5가 유리\n",
        "    # pre-trained 모델 사용 시 pre-trained 모델의 mean, std를 사용\n",
        "    'norm_mean': [0.5, 0.5, 0.5],\n",
        "    'norm_std': [0.5, 0.5, 0.5],\n",
        "\n",
        "    # 적용하는 기법들 명시\n",
        "    'augmentation': {},\n",
        "\n",
        "    # 모델에 대한 hyperparameters\n",
        "    'model_layer': {}, # model layer의 filter size, activation function, pooling layer 등 변경 시 작성\n",
        "    'dropout': 0.3, # model layer에서 dropout 비율 변경 시 작성\n",
        "    'timm_activation': \"ReLU\",\n",
        "    'activation': \"SELU\", # ReLU, LeakyReLU, ELU, SELU, GELU, Tanh, PReLU, SiLU\n",
        "\n",
        "    # 학습 시 hyperparameters\n",
        "    'epochs': 10000, # max epoch\n",
        "    'patience': 50, # early stopping patience\n",
        "    'batch_size': 64,\n",
        "\n",
        "    # device\n",
        "    'device': device # device name\n",
        "}\n",
        "if CFG['patience'] < 5:\n",
        "    raise ValueError(\"Ealry stopping patience must be larger than 5!\")\n",
        "\n",
        "# wandb setting\n",
        "import wandb\n",
        "wandb.login()\n",
        "# 로그 레벨을 WARNING 이상으로 설정하여 wandb 메시지를 억제\n",
        "wandb.setup()  # Optional, sets up environment\n",
        "wandb.termlogger.setLevel(logging.WARNING)\n",
        "wandb.termlogger.setLevel(logging.WARNING)\n",
        "WB = False # wandb 기록할 거면 True, 아니면 False.\n",
        "project_name = \"upstage-img-clf\"\n",
        "# def get_runs(project_name):\n",
        "#     # wandb project의 runs들을 가져옴\n",
        "#     return wandb.Api().runs(path=project_name, order=\"-created_at\")\n",
        "# def get_latest_run(project_name):\n",
        "#     runs = get_runs(project_name) # wandb project의 runs들을 가져옴\n",
        "#     if not runs: # 최초 runs에는 project_name-001 로 이름을 만든다.\n",
        "#         return f\"{CFG['model_name']}-opt_{CFG['optimizer_name']}-img{CFG['image_size']}-aug_{len(CFG['augmentation'])}-{CURRENT_TIME}-0000\"\n",
        "#     return runs[0].name # 가장 최근의 runs 이름을 가져온다.\n",
        "# def auto_increment_run_suffix(name: str, pad=4):\n",
        "#     suffix = name.split(\"-\")[-1]\n",
        "#     next_suffix = str(int(suffix) + 1).zfill(pad) # 2 > 0002\n",
        "#     return name.replace(suffix, next_suffix)\n",
        "# recent_run_name = get_latest_run(project_name)\n",
        "# next_run_name = auto_increment_run_suffix(recent_run_name) # 가장 최근 runs의 숫자를 1 올린다.\n",
        "next_run_name = f\"{CURRENT_TIME}-{CFG['model_name']}-opt_{CFG['optimizer_name']}-img{CFG['image_size']}-aug_{len(CFG['augmentation'])}\"\n",
        "print(f\"📢 run name: {next_run_name}\")\n",
        "run = None\n",
        "if WB:\n",
        "    run = wandb.init(\n",
        "        project=project_name,\n",
        "        name=next_run_name,\n",
        "        config=CFG\n",
        "    )\n",
        "    pass\n",
        "\n",
        "# transform dictionary into namespace\n",
        "from types import SimpleNamespace\n",
        "CFG = SimpleNamespace(**CFG)\n",
        "\n",
        "# set random seed\n",
        "set_seed(CFG.random_seed)"
      ]
    },
    {
      "cell_type": "code",
      "execution_count": 5,
      "metadata": {},
      "outputs": [],
      "source": [
        "# download data\n",
        "# os.chdir(project_root)\n",
        "# !wget https://aistages-api-public-prod.s3.amazonaws.com/app/Competitions/000356/data/data.tar.gz\n",
        "# !tar -zxvf data.tar.gz"
      ]
    },
    {
      "cell_type": "markdown",
      "metadata": {
        "id": "PXa_FPM73R9f"
      },
      "source": [
        "## 2. Import Library & Define Functions\n",
        "* 학습 및 추론에 필요한 라이브러리를 로드합니다.\n",
        "* 학습 및 추론에 필요한 함수와 클래스를 정의합니다."
      ]
    },
    {
      "cell_type": "code",
      "execution_count": 6,
      "metadata": {
        "id": "Hyl8oAy6TZAu"
      },
      "outputs": [],
      "source": [
        "# 데이터셋 클래스를 정의합니다.\n",
        "class ImageDataset(Dataset):\n",
        "    # def __init__(self, csv, path, transform=None):\n",
        "    def __init__(self, df:pd.DataFrame, path, transform=None):\n",
        "        \"\"\"\n",
        "        :param pd.DataFrame df: train-val을 위해서는 pandas.Dataframe으로 받아야 함.\n",
        "        :param str path: 이미지 데이터 디렉토리 경로\n",
        "        :param _type_ transform: 이미지 변형, defaults to None\n",
        "        \"\"\"\n",
        "        self.df = df\n",
        "        self.path = path\n",
        "        self.transform = transform\n",
        "\n",
        "    def __len__(self):\n",
        "        return len(self.df)\n",
        "\n",
        "    def __getitem__(self, idx):\n",
        "        name, target = self.df.iloc[idx]\n",
        "        img = np.array(Image.open(os.path.join(self.path, name)))\n",
        "        if self.transform:\n",
        "            img = self.transform(image=img)['image']\n",
        "        return img, target"
      ]
    },
    {
      "cell_type": "code",
      "execution_count": 7,
      "metadata": {},
      "outputs": [],
      "source": [
        "import copy\n",
        "\n",
        "class EarlyStopping:\n",
        "\tdef __init__(self, patience=5, min_delta=1e-6, restore_best_weights=True):\n",
        "\t\tself.patience = patience\n",
        "\t\tself.min_delta = min_delta\n",
        "\t\tself.restore_best_weights = restore_best_weights\n",
        "\t\tself.best_model_state_dict = None\n",
        "\t\tself.best_loss = None\n",
        "\t\tself.counter = 0\n",
        "\t\tself.status = \"\"\n",
        "\t\n",
        "\tdef __call__(self, model, val_loss):\n",
        "\t\tif self.best_loss is None:\n",
        "\t\t\t#현재의 모델로 self.best_loss, self.best_model_state_dict 업데이트\n",
        "\t\t\tself.best_loss = val_loss\n",
        "\t\t\tself.best_model_state_dict = copy.deepcopy(model.state_dict())\n",
        "\t\telif val_loss < self.best_loss - self.min_delta:\n",
        "\t\t\t#val_loss가 best_loss보다 좋을 때 > self.best_loss와 self.best_model 업데이트\n",
        "\t\t\tself.best_model_state_dict = copy.deepcopy(model.state_dict())\n",
        "\t\t\tself.best_loss = val_loss\n",
        "\t\t\tself.counter = 0\n",
        "\t\t\tself.status = f\"Improvement found, counter reset to {self.counter}\"\n",
        "\t\telse:\n",
        "\t\t\t#val_loss가 더 안 좋을 때 > patience 증가하고 early stop 여부 확인\n",
        "\t\t\tself.counter += 1\n",
        "\t\t\tself.status = f\"No improvement in the last {self.counter} epochs\"\n",
        "\t\t\tif self.counter >= self.patience: # ealy stop\n",
        "\t\t\t\tself.status = f\"Early stopping triggered after {self.counter} epochs.\"\n",
        "\t\t\t\tif self.restore_best_weights and self.best_model_state_dict is not None:\n",
        "\t\t\t\t\tmodel.load_state_dict(self.best_model_state_dict)\n",
        "\t\t\t\t\treturn True\n",
        "\t\treturn False # end with no early stop\n",
        "\t\n",
        "\tdef restore_best(self, model):\n",
        "\t\tif self.best_loss is not None and self.best_model_state_dict is not None:\n",
        "\t\t\tprint(f\"Restore model_state_dict of which best_loss: {self.best_loss:.6f}\")\n",
        "\t\t\tmodel.load_state_dict(self.best_model_state_dict)\n",
        "\t\t\treturn True\n",
        "\t\treturn False\n",
        "\n",
        "class TrainModule():\n",
        "\tdef __init__(self, model: torch.nn.Module, criterion, optimizer, scheduler, train_loader, valid_loader, cfg: SimpleNamespace, verbose:int =50, run=None):\n",
        "\t\t'''\n",
        "\t\tmodel, criterion, scheduler, train_loader, valid_loader 미리 정의해서 전달\n",
        "\t\tcfg : es_patience, epochs 등에 대한 hyperparameters를 namespace 객체로 입력\n",
        "\t\t'''\n",
        "\t\trequired_attrs = ['scheduler_name','patience', 'epochs']\n",
        "\t\tfor attr in required_attrs:\n",
        "\t\t\tassert hasattr(cfg, attr), f\"AttributeError: There's no '{attr}' attribute in cfg.\"\n",
        "\t\tassert verbose > 1 and verbose < cfg.epochs, f\"Logging frequency({verbose}) MUST BE smaller than EPOCHS({cfg.epochs}) and positive value.\"\n",
        "\t\t\n",
        "\t\tself.model = model\n",
        "\t\tself.criterion = criterion\n",
        "\t\tself.optimizer = optimizer\n",
        "\t\tself.scheduler = scheduler\n",
        "\t\tself.train_loader = train_loader\n",
        "\t\tself.valid_loader = valid_loader\n",
        "\t\tself.cfg = cfg\n",
        "\t\tif getattr(cfg, \"device\", False):\n",
        "\t\t\tself.model.to(self.cfg.device)\n",
        "\t\telse:\n",
        "\t\t\tself.cfg.device = 'cpu'\n",
        "\t\tself.es = EarlyStopping(patience=self.cfg.patience)\n",
        "\t\t### list for plot\n",
        "\t\tself.train_losses_for_plot, self.val_losses_for_plot = [], []\n",
        "\t\tself.train_acc_for_plot, self.val_acc_for_plot = [], [] # classification\n",
        "\t\tself.train_f1_for_plot, self.val_f1_for_plot = [], [] # classification\n",
        "\t\t# logging frequency\n",
        "\t\tself.verbose = verbose\n",
        "\t\t# wandb run object\n",
        "\t\tself.run = run\n",
        "\t\t\n",
        "\tdef training_step(self):\n",
        "\t\t# set train mode\n",
        "\t\tself.model.train()\n",
        "\t\trunning_loss = 0.0\n",
        "\t\tcorrect = 0 # classification\n",
        "\t\ttotal = 0\n",
        "\t\tall_preds = []\n",
        "\t\tall_targets = []\n",
        "\t\t\n",
        "\t\tfor train_x, train_y in self.train_loader: # batch training\n",
        "\t\t\ttrain_x, train_y = train_x.to(self.cfg.device), train_y.to(self.cfg.device)\n",
        "\t\t\t\n",
        "\t\t\tself.optimizer.zero_grad() # 이전 gradient 초기화\n",
        "\t\t\toutputs = self.model(train_x)\n",
        "\t\t\tloss = self.criterion(outputs, train_y)\n",
        "\t\t\t\n",
        "\t\t\tloss.backward() # backward pass\n",
        "\t\t\tself.optimizer.step() # 가중치 업데이트\n",
        "\t\t\tif self.cfg.scheduler_name == \"OneCycleLR\":\n",
        "\t\t\t\tself.scheduler.step()\n",
        "\t\t\t\n",
        "\t\t\trunning_loss += loss.item() * train_y.size(0) # train_loss \n",
        "\t\t\t_, predicted = torch.max(outputs, 1) # 가장 확률 높은 클래스 예측 # classification\n",
        "\t\t\tcorrect += (predicted == train_y).sum().item() # classification\n",
        "\t\t\ttotal += train_y.size(0) \n",
        "\n",
        "\t\t\tall_preds.extend(predicted.cpu().numpy())\n",
        "\t\t\tall_targets.extend(train_y.cpu().numpy())\n",
        "\t\t\t\n",
        "\t\tepoch_loss = running_loss / total # average loss of 1 epoch\n",
        "\t\tepoch_acc = 100 * correct / total # classification\n",
        "\t\tepoch_f1 = f1_score(all_targets, all_preds, average='macro') # classification\n",
        "\t\treturn epoch_loss, epoch_acc, epoch_f1  # classification\t\t\n",
        "\t\n",
        "\tdef validation_step(self):\n",
        "\t\tself.model.eval()  # 평가 모드\n",
        "\t\tval_loss = 0\n",
        "\t\tcorrect = 0 # classification\n",
        "\t\ttotal = 0\n",
        "\t\tall_preds = []\n",
        "\t\tall_targets = []\n",
        "\t\t\n",
        "\t\twith torch.no_grad():  # gradient 계산 비활성화\n",
        "\t\t\tfor val_x, val_y in self.valid_loader: # batch training\n",
        "\t\t\t\tval_x, val_y = val_x.to(self.cfg.device), val_y.to(self.cfg.device)\n",
        "\t\t\t\t\n",
        "\t\t\t\toutputs = self.model(val_x)\n",
        "\t\t\t\tloss = self.criterion(outputs, val_y)\n",
        "\t\t\t\t\t\t\t\t\n",
        "\t\t\t\tval_loss += loss.item() * val_y.size(0)\n",
        "\t\t\t\t_, predicted = torch.max(outputs, 1) # classification\n",
        "\t\t\t\tcorrect += (predicted == val_y).sum().item() # classification\n",
        "\t\t\t\ttotal += val_y.size(0)\n",
        "\n",
        "\t\t\t\tall_preds.extend(predicted.cpu().numpy())\n",
        "\t\t\t\tall_targets.extend(val_y.cpu().numpy())\n",
        "\t\t\n",
        "\t\tepoch_loss = val_loss / total # average loss of 1 epoch\n",
        "\t\tepoch_acc = 100 * correct / total # classification\n",
        "\t\tepoch_f1 = f1_score(all_targets, all_preds, average='macro') # classification\n",
        "\t\treturn epoch_loss, epoch_acc, epoch_f1 # classification\n",
        "\t\n",
        "\tdef training_loop(self):\n",
        "\t\ttry:\n",
        "\t\t\t# reset loss list for plots\n",
        "\t\t\tself.train_losses_for_plot, self.val_losses_for_plot = [], []\n",
        "\t\t\tself.train_acc_for_plot, self.val_acc_for_plot = [], []\n",
        "\t\t\tepoch_counter = 0\n",
        "\t\t\tepoch_timer = []\n",
        "\t\t\tdone = False\n",
        "\t\t\t\n",
        "\t\t\tpbar = tqdm(total=self.cfg.epochs)\n",
        "\t\t\twhile not done and epoch_counter<self.cfg.epochs:\n",
        "\t\t\t\tst = time.time()\n",
        "\t\t\t\tepoch_counter += 1\n",
        "\t\t\t\t\n",
        "\t\t\t\t# train\n",
        "\t\t\t\t# train_loss = self.training_step() # regression\n",
        "\t\t\t\ttrain_loss, train_acc, train_f1 = self.training_step() # classification\n",
        "\t\t\t\t\n",
        "\t\t\t\tself.train_losses_for_plot.append(train_loss)\n",
        "\t\t\t\tself.train_acc_for_plot.append(train_acc) # classification\n",
        "\t\t\t\tself.train_f1_for_plot.append(train_f1) # classification\n",
        "\t\t\t\t\n",
        "\t\t\t\t# validation\n",
        "\t\t\t\t# val_loss = self.validation_step() # regression\n",
        "\t\t\t\tval_loss, val_acc, val_f1 = self.validation_step()  # classification\n",
        "\t\t\t\tself.val_losses_for_plot.append(val_loss)\n",
        "\t\t\t\tself.val_acc_for_plot.append(val_acc) # classification\n",
        "\t\t\t\tself.val_f1_for_plot.append(val_f1) # classification\n",
        "\n",
        "\t\t\t\t\n",
        "\t\t\t\t# scheduler의 종류에 따라 val_loss를 전달하거나 그냥 step() 호출.\n",
        "\t\t\t\tif self.cfg.scheduler_name == \"OneCycleLR\":\n",
        "\t\t\t\t\tpass\n",
        "\t\t\t\telif self.cfg.scheduler_name == \"ReduceLROnPlateau\":\n",
        "\t\t\t\t\tself.scheduler.step(val_loss)\n",
        "\t\t\t\telse:\n",
        "\t\t\t\t\tself.scheduler.step()\n",
        "\t\t\t\tepoch_timer.append(time.time() - st)\n",
        "\t\t\t\tpbar.update(1)\n",
        "\t\t\t\tif self.es(self.model, val_loss):\n",
        "\t\t\t\t\t# early stopped 된 경우 if 문 안으로 들어온다.\n",
        "\t\t\t\t\tdone = True\n",
        "\t\t\t\tif self.run is not None:\n",
        "\t\t\t\t\tprint('wandb logging...')\n",
        "\t\t\t\t\tepoch_log = {\n",
        "\t\t\t\t\t\t'train_loss': train_loss,\n",
        "\t\t\t\t\t\t'train_accuracy': train_acc,\n",
        "\t\t\t\t\t\t'train_f1': train_f1,\n",
        "\t\t\t\t\t\t'val_loss': val_loss,\n",
        "\t\t\t\t\t\t'val_accuracy': val_acc,\n",
        "\t\t\t\t\t\t'val_f1': val_f1\n",
        "\t\t\t\t\t}\n",
        "\t\t\t\t\trun.log(epoch_log, step=epoch_counter) # wandb logging\n",
        "\t\t\t\tif epoch_counter == 1 or epoch_counter % self.verbose == 0:\n",
        "\t\t\t\t\t# self.verbose epoch마다 logging\n",
        "\t\t\t\t\tmean_time_spent = np.mean(epoch_timer)\n",
        "\t\t\t\t\tepoch_timer = [] # reset timer list\n",
        "\t\t\t\t\t# print(f\"Epoch {epoch_counter}/{self.cfg.epochs} [Time: {mean_time_spent:.2f}s], Train Loss: {train_loss:.4f}, Validation Loss: {val_loss:.8f}\")\n",
        "\t\t\t\t\tprint(f\"Epoch {epoch_counter}/{self.cfg.epochs} [Time: {mean_time_spent:.2f}s], Train Loss: {train_loss:.4f}, Validation Loss: {val_loss:.8f}\\n Train ACC: {train_acc:.2f}%, Validation ACC: {val_acc:.2f}%\\n Train F1: {train_f1:.4f}, Validation F1: {val_f1:.4f}\") # classification\n",
        "\t\texcept Exception as e:\n",
        "\t\t\tprint(e)\n",
        "\t\t\treturn False # training loop failed\n",
        "\t\treturn True # training loop succeed\n",
        "\t\t\n",
        "\tdef plot_loss(self, show:bool=False, savewandb:bool=True, savedir:str=None):\n",
        "\t\t\"\"\"loss, accuracy, f1-score에 대한 그래프 시각화 함수\n",
        "\n",
        "\t\t:param bool show: plt.show()를 실행할 건지, defaults to False\n",
        "\t\t:param bool savewandb: wandb logging에 plot을 시각화하여 저장할 건지, defaults to True\n",
        "\t\t:param str savedir: plot을 저장할 디렉토리를 설정, None이면 저장 안 함, defaults to None\n",
        "\t\t:return _type_: None\n",
        "\t\t\"\"\"\n",
        "\t\timport matplotlib.pyplot as plt\n",
        "\t\tfig, ax = plt.subplots(figsize=(6, 4))\n",
        "\t\tplt.plot(range(len(self.train_losses_for_plot)),self.train_losses_for_plot,color='blue',label='train_loss')\n",
        "\t\tplt.plot(range(len(self.val_losses_for_plot)),self.val_losses_for_plot,color='red',label='val_loss')\n",
        "\t\tplt.axhline(y=1e-3, color='red', linestyle='--', label='(Overfit)')\n",
        "\t\tplt.legend()\n",
        "\t\tplt.xlabel(\"Epoch\")\n",
        "\t\tplt.ylabel(\"Loss\")\n",
        "\t\tplt.title(\"Train/Validation Loss plot\")\n",
        "\t\tif savedir is not None:\n",
        "\t\t\tif os.path.exists(savedir):\n",
        "\t\t\t\tos.makedirs(savedir, exist_ok=True)\n",
        "\t\t\tsavepath = os.path.join(savedir, \"loss_plot.png\")\n",
        "\t\t\tplt.savefig(savepath)\n",
        "\t\t\tprint(f\"⚙️loss plot saved in {savepath}\")\n",
        "\t\tif show:\n",
        "\t\t\tplt.show()\n",
        "\t\tif savewandb and self.run is not None:\n",
        "\t\t\trun.log({'loss_plot': wandb.Image(fig)}) # wandb\n",
        "\t\tplt.clf()\n",
        "\t\t\n",
        "\t\t# classification\n",
        "\t\tfig, ax = plt.subplots(figsize=(6, 4))\n",
        "\t\tplt.plot(range(len(self.train_acc_for_plot)),self.train_acc_for_plot,color='blue',label='train_acc')\n",
        "\t\tplt.plot(range(len(self.val_acc_for_plot)),self.val_acc_for_plot,color='red',label='val_acc')\n",
        "\t\tplt.axhline(y=99.0, color='red', linestyle='--', label='(99%)')\n",
        "\t\tplt.legend()\n",
        "\t\tplt.xlabel(\"Epoch\")\n",
        "\t\tplt.ylabel(\"Accuracy(%)\")\n",
        "\t\tplt.title(\"Train/Validation Accuracy Plot\")\n",
        "\t\tplt.grid()\n",
        "\t\tif savedir is not None:\n",
        "\t\t\tsavepath = os.path.join(savedir, \"accuracy_plot.png\")\n",
        "\t\t\tplt.savefig(savepath)\n",
        "\t\t\tprint(f\"⚙️accuracy plot saved in {savepath}\")\n",
        "\t\tif show:\n",
        "\t\t\tplt.show()\n",
        "\t\tif savewandb and self.run is not None:\n",
        "\t\t\trun.log({'accuracy_plot': wandb.Image(fig)}) # wandb\n",
        "\t\tplt.clf()\n",
        "\n",
        "\t\t# classification\n",
        "\t\tfig, ax = plt.subplots(figsize=(6, 4))\n",
        "\t\tplt.plot(range(len(self.train_f1_for_plot)),self.train_f1_for_plot,color='blue',label='train_f1')\n",
        "\t\tplt.plot(range(len(self.val_f1_for_plot)),self.val_f1_for_plot,color='red',label='val_f1')\n",
        "\t\tplt.axhline(y=0.99, color='red', linestyle='--', label='(0.99)')\n",
        "\t\tplt.legend()\n",
        "\t\tplt.xlabel(\"Epoch\")\n",
        "\t\tplt.ylabel(\"F1-score\")\n",
        "\t\tplt.title(\"Train/Validation F1-score Plot\")\n",
        "\t\tplt.grid()\n",
        "\t\tif savedir is not None:\n",
        "\t\t\tsavepath = os.path.join(savedir, \"f1_plot.png\")\n",
        "\t\t\tplt.savefig(savepath)\n",
        "\t\t\tprint(f\"⚙️f1 plot saved in {savepath}\")\n",
        "\t\tif show:\n",
        "\t\t\tplt.show()\n",
        "\t\tif savewandb and self.run is not None:\n",
        "\t\t\trun.log({'f1_plot': wandb.Image(fig)}) # wandb\n",
        "\t\tplt.clf()\n",
        "\t\treturn None\n",
        "\t\t\n",
        "\tdef save_experiments(self, savepath=None):\n",
        "\t\t\"\"\"\"\"\"\n",
        "\t\tsave_dict = {\n",
        "\t\t\t'model_state_dict': self.model.state_dict(),\n",
        "\t\t\t'optimizer_state_dict': self.optimizer.state_dict(),\n",
        "\t\t\t'scheduler_state_dict': self.scheduler.state_dict(),\n",
        "\t\t\t'cfg': vars(self.cfg) # 나중에 로드해서 CFG = SimpleNamespace(**cfg)로 복원\n",
        "\t\t}\n",
        "\t\tif savepath is not None:\n",
        "\t\t\tdirpath = os.path.dirname(savepath)\n",
        "\t\t\tif os.path.exists(dirpath):\n",
        "\t\t\t\tos.makedirs(dirpath, exist_ok=True)\n",
        "\t\t\ttorch.save(save_dict, f=savepath)\n",
        "\t\t\treturn True\n",
        "\t\treturn False\n",
        "\t\t"
      ]
    },
    {
      "cell_type": "markdown",
      "metadata": {
        "id": "amum-FlIojc6"
      },
      "source": [
        "## 3. Load Data & Augmentation\n",
        "* 학습, 테스트 데이터셋과 로더를 정의합니다.\n",
        "* 이미지 증강 기법을 정의합니다.\n",
        "\n",
        "> references   \n",
        "> - torchvision 직접 구현 : [예시 코드](https://skier-song9.notion.site/CustomDataset-Augmentation-1d1c8d3f60f58026b4def1895f3fb9b0?source=copy_link)   \n",
        "> - Albumentation : [예시 코드](https://albumentations.ai/docs/examples/)   \n",
        "> - Augraphy : [예시 코드](https://augraphy.readthedocs.io/en/latest/doc/source/example_usage.html), [PyTorch 프로세스에서 사용 방법](https://augraphy.readthedocs.io/en/latest/examples/pytorch_integration_classification_example.html)"
      ]
    },
    {
      "cell_type": "code",
      "execution_count": 8,
      "metadata": {},
      "outputs": [],
      "source": [
        "def apply_augraphy(image, **kwargs):\n",
        "    \"\"\"_summary_\n",
        "\n",
        "    :param _type_ image: _description_\n",
        "    :return _type_: _description_\n",
        "    \"\"\"\n",
        "    # augraphy는 uint8, BGR 순서의 이미지 사용\n",
        "    image = np.array(image)\n",
        "    aug_image = AugraphyPipeline(image)\n",
        "    return {\"image\": aug_image}\n",
        "\n",
        "def build_augraphy_pipeline():\n",
        "    ink_phase = [Dithering(p=0.5),\n",
        "        InkBleed(p=0.5),\n",
        "        OneOf([LowInkRandomLines(p=1), LowInkPeriodicLines(p=1)]),\n",
        "    ]\n",
        "    paper_phase = [ColorPaper(p=0.5)]\n",
        "    post_phase = [Markup(p=0.25),\n",
        "        DirtyRollers(p=0.25),\n",
        "        Scribbles(p=0.25),\n",
        "        BindingsAndFasteners(p=0.25),\n",
        "        BadPhotoCopy(p=0.25),\n",
        "        DirtyDrum(p=0.25),\n",
        "    ]\n",
        "    pipeline = AugraphyPipeline(ink_phase=ink_phase, paper_phase=paper_phase, post_phase=post_phase)\n",
        "    return pipeline\n",
        "\n",
        "def build_train_transform(cfg):\n",
        "    \"\"\"_summary_\n",
        "\n",
        "    :param _type_ cfg: _description_\n",
        "    :return _type_: _description_\n",
        "    \"\"\"\n",
        "    transform_list = []\n",
        "    if cfg.augmentation.get('augraphy'):\n",
        "        transform_list.append(A.Lambda(image=apply_augraphy, always_apply=True))\n",
        "    return A.Compose(transform_list)"
      ]
    },
    {
      "cell_type": "code",
      "execution_count": 9,
      "metadata": {
        "id": "llh5C7ZKoq2S"
      },
      "outputs": [],
      "source": [
        "# augmentation을 위한 transform 코드\n",
        "train_transform = A.Compose([\n",
        "    # 이미지 크기 조정\n",
        "    A.Resize(height=CFG.image_size, width=CFG.image_size),\n",
        "    # images normalization\n",
        "    A.Normalize(mean=CFG.norm_mean, std=CFG.norm_std),\n",
        "    # numpy 이미지나 PIL 이미지를 PyTorch 텐서로 변환\n",
        "    ToTensorV2(),\n",
        "])\n",
        "\n",
        "# valid, test image 변환을 위한 transform 코드\n",
        "test_transform = A.Compose([\n",
        "    A.Resize(height=CFG.image_size, width=CFG.image_size),\n",
        "    A.Normalize(mean=CFG.norm_mean, std=CFG.norm_std),\n",
        "    ToTensorV2(),\n",
        "])"
      ]
    },
    {
      "cell_type": "markdown",
      "metadata": {},
      "source": [
        "#### Train-Validation 분할"
      ]
    },
    {
      "cell_type": "code",
      "execution_count": 10,
      "metadata": {},
      "outputs": [
        {
          "name": "stdout",
          "output_type": "stream",
          "text": [
            "1334 236\n"
          ]
        }
      ],
      "source": [
        "# train-validation split\n",
        "### TO-DO\n",
        "from sklearn.model_selection import train_test_split\n",
        "train_df = pd.read_csv(os.path.join(data_dir, \"train.csv\"))\n",
        "train_idx, val_idx = train_test_split(\n",
        "    range(len(train_df)),\n",
        "    test_size=CFG.val_split_ratio,\n",
        "    stratify=train_df['target'],\n",
        "    shuffle=True,\n",
        "    random_state=CFG.random_seed\n",
        ")\n",
        "print(len(train_idx), len(val_idx))\n",
        "\n",
        "# Create train and validation CSV files temporarily\n",
        "train_subset = train_df.iloc[train_idx].reset_index(drop=True)\n",
        "val_subset = train_df.iloc[val_idx].reset_index(drop=True)\n"
      ]
    },
    {
      "cell_type": "markdown",
      "metadata": {},
      "source": [
        "#### Dataset 및 DataLoader 정의"
      ]
    },
    {
      "cell_type": "code",
      "execution_count": 11,
      "metadata": {
        "colab": {
          "base_uri": "https://localhost:8080/"
        },
        "id": "INxdmsStop2L",
        "outputId": "49f0d412-8ce6-4d2f-ae78-d5cf3d056340"
      },
      "outputs": [
        {
          "name": "stdout",
          "output_type": "stream",
          "text": [
            "1334 236 3140\n"
          ]
        }
      ],
      "source": [
        "# Dataset 정의\n",
        "train_dataset = ImageDataset(\n",
        "    train_subset,\n",
        "    os.path.join(data_dir, \"train\"),\n",
        "    transform=train_transform\n",
        ")\n",
        "# ImageDataset의 df 속성을 train_subset으로 업데이트\n",
        "train_dataset.df = train_subset\n",
        "\n",
        "valid_dataset = ImageDataset(\n",
        "    val_subset,\n",
        "    os.path.join(data_dir, \"train\"),\n",
        "    transform=test_transform\n",
        ")\n",
        "# ImageDataset의 df 속성을 val_subset으로 업데이트\n",
        "valid_dataset.df = val_subset\n",
        "\n",
        "test_dataset = ImageDataset(\n",
        "    pd.read_csv(os.path.join(data_dir, \"sample_submission.csv\")),\n",
        "    os.path.join(data_dir, \"test\"),\n",
        "    transform=test_transform\n",
        ")\n",
        "print(len(train_dataset), len(valid_dataset), len(test_dataset))"
      ]
    },
    {
      "cell_type": "code",
      "execution_count": 12,
      "metadata": {
        "id": "_sO03fWaQj1h"
      },
      "outputs": [],
      "source": [
        "# DataLoader 정의\n",
        "train_loader = DataLoader(\n",
        "    train_dataset,\n",
        "    batch_size=CFG.batch_size,\n",
        "    shuffle=True,\n",
        "    num_workers=4,\n",
        "    pin_memory=True,\n",
        "    drop_last=False\n",
        ")\n",
        "\n",
        "valid_loader = DataLoader(\n",
        "    valid_dataset,\n",
        "    batch_size=CFG.batch_size,\n",
        "    shuffle=False,\n",
        "    num_workers=0,\n",
        "    pin_memory=True\n",
        ")\n",
        "\n",
        "test_loader = DataLoader(\n",
        "    test_dataset,\n",
        "    batch_size=CFG.batch_size,\n",
        "    shuffle=False,\n",
        "    num_workers=0,\n",
        "    pin_memory=True\n",
        ")"
      ]
    },
    {
      "cell_type": "code",
      "execution_count": 13,
      "metadata": {},
      "outputs": [
        {
          "name": "stdout",
          "output_type": "stream",
          "text": [
            "torch.Size([64, 3, 224, 224])\n"
          ]
        }
      ],
      "source": [
        "for train_x, train_y in train_loader:\n",
        "    print(train_x.shape)\n",
        "    break"
      ]
    },
    {
      "cell_type": "markdown",
      "metadata": {
        "id": "Nmm5h3J-pXNV"
      },
      "source": [
        "## 5. Train Model\n",
        "* 모델을 로드하고, 학습을 진행합니다."
      ]
    },
    {
      "cell_type": "code",
      "execution_count": 14,
      "metadata": {},
      "outputs": [],
      "source": [
        "def get_activation(CFG):\n",
        "    ACTIVATIONS = {\n",
        "        'ReLU': nn.ReLU, # 음수는 0으로, 양수는 선형함수\n",
        "        'LeakyReLU': nn.LeakyReLU, # 음수도 일부 통과 -> Dead ReLU 방지\n",
        "        'ELU': nn.ELU, # 음수도 일부 통과 → 출력 평균이 0에 가깝도록 함으로써 학습 안정화 도움\n",
        "        'SELU': nn.SELU, # ELU에 스케일링 계수를 곱해 신경망을 자기 정규화, 특정 조건 (예: fully connected, 특정 초기화, 특정 구조)에서만 자기 정규화 효과가 잘 발휘\n",
        "        'GELU': nn.GELU, # 더 부드러운 비선형성, Transformer, BERT류\n",
        "        'Tanh': nn.Tanh, # 완만한 sigmoid\n",
        "        'PReLU': nn.PReLU, # 음수도 일부 통과 -> Dead ReLU 방지, 기울기를 학습함.\n",
        "        'SiLU': nn.SiLU, # 더 부드러운 비선형성, EfficientNet, Swin Transformer 등\n",
        "    }\n",
        "    return ACTIVATIONS[CFG.activation]\n",
        "\n",
        "class TimmWrapper(nn.Module):\n",
        "    def __init__(self, CFG):\n",
        "        super().__init__()\n",
        "        self.backbone = timm.create_model(\n",
        "            model_name=CFG.model_name,\n",
        "            pretrained=CFG.pretrained,\n",
        "            num_classes=0, global_pool='avg'\n",
        "        )\n",
        "        self.dropout = nn.Dropout(p=CFG.dropout)\n",
        "        self.activation = get_activation(CFG)()\n",
        "        self.classifier = nn.Sequential(\n",
        "            nn.Linear(self.backbone.num_features, 1000),\n",
        "            nn.BatchNorm1d(1000),\n",
        "            self.activation,\n",
        "            self.dropout,\n",
        "            nn.Linear(1000, 17)\n",
        "        )\n",
        "        def weight_init(m):\n",
        "            if isinstance(m, nn.Conv2d) or isinstance(m, nn.Linear):\n",
        "                if CFG.timm_activation in ['Tanh']:\n",
        "                    # Xavier 초기화\n",
        "                    init.xavier_uniform_(m.weight)\n",
        "                else:\n",
        "                    # He 초기화\n",
        "                    init.kaiming_uniform_(m.weight, nonlinearity='relu')\n",
        "                if m.bias is not None:\n",
        "                    nn.init.zeros_(m.bias)\n",
        "            elif isinstance(m, nn.BatchNorm1d) or isinstance(m, nn.BatchNorm2d):\n",
        "                nn.init.ones_(m.weight)\n",
        "                nn.init.zeros_(m.bias)\n",
        "        if CFG.fine_tuning == 'head':\n",
        "            # backbone 파라미터를 freeze\n",
        "            for param in self.backbone.parameters():\n",
        "                param.requires_grad = False\n",
        "            # classifier는 가중치 초기화\n",
        "            self.classifier.apply(weight_init)\n",
        "        elif CFG.fine_tuning == 'custom':\n",
        "            # 직접 커스터마이징\n",
        "            pass\n",
        "        elif CFG.fine_tuning == 'scratch':\n",
        "            self.apply(weight_init)\n",
        "\n",
        "    def forward(self, x):\n",
        "        x = self.backbone(x)\n",
        "        x = self.dropout(x)\n",
        "        x = self.classifier(x)\n",
        "        return x\n",
        "\n",
        "def get_timm_model(CFG):\n",
        "    if CFG.dropout is not None:\n",
        "        return TimmWrapper(CFG).to(CFG.device)\n",
        "\n",
        "    return timm.create_model(\n",
        "        CFG.model_name,\n",
        "        pretrained=CFG.pretrained,\n",
        "        num_classes=17,\n",
        "        act_layer=CFG.timm_activation # activation function 설정 (pretrained=True라면 pretrained의 activation을 그대로 사용하는 것이 좋다.)\n",
        "    ).to(CFG.device)\n",
        "\n",
        "def get_criterion(CFG):\n",
        "    CRITERIONS = {\n",
        "        \"CrossEntropyLoss\" : nn.CrossEntropyLoss()\n",
        "    }\n",
        "    return CRITERIONS[CFG.criterion]\n",
        "\n",
        "def get_optimizers(model, CFG):\n",
        "    # SGD, RMSprop, Momentum, NAG, Adam, AdamW, NAdam, RAdam, Adafactor\n",
        "    OPTIMIZERS = {\n",
        "        'SGD': optim.SGD(model.parameters(), lr=CFG.lr),\n",
        "        'RMSprop': optim.RMSprop(model.parameters(), lr=CFG.lr, alpha=0.99, weight_decay=CFG.weight_decay),\n",
        "        'Momentum': optim.SGD(model.parameters(), lr=CFG.lr, momentum=0.9),\n",
        "        'NAG' : optim.SGD(model.parameters(), lr=CFG.lr, momentum=0.9, nesterov=True),\n",
        "        'Adam' : optim.Adam(model.parameters(), lr=CFG.lr, weight_decay=CFG.weight_decay),\n",
        "        'AdamW': optim.AdamW(model.parameters(), lr=CFG.lr, weight_decay=CFG.weight_decay),\n",
        "        'NAdam': optim.NAdam(model.parameters(), lr=CFG.lr, weight_decay=CFG.weight_decay, momentum_decay=4e-3),\n",
        "        'RAdam': optim.RAdam(model.parameters(), lr=CFG.lr, weight_decay=CFG.weight_decay),\n",
        "        'Adafactor': optim.Adafactor(model.parameters(), lr=CFG.lr, beta2_decay=-0.8, d=1.0, weight_decay=CFG.weight_decay, maximize=False)\n",
        "    }\n",
        "    return OPTIMIZERS[CFG.optimizer_name]\n",
        "\n",
        "def get_scheduler(optimizer, CFG):\n",
        "    # StepLR, ExponentialLR, CosineAnnealingLR, OneCycleLR, ReduceLROnPlateau\n",
        "    SCHEDULERS = {\n",
        "        'StepLR': lr_scheduler.StepLR(optimizer, step_size=50, gamma=0.1),\n",
        "        'ExponentialLR': lr_scheduler.ExponentialLR(optimizer, gamma=0.95),\n",
        "        'CosineAnnealingLR': lr_scheduler.CosineAnnealingLR(optimizer, T_max=CFG.epochs, eta_min=0),\n",
        "        'OneCycleLR': lr_scheduler.OneCycleLR(optimizer, max_lr=0.01, steps_per_epoch=len(train_loader), epochs=CFG.epochs),\n",
        "        'ReduceLROnPlateau': lr_scheduler.ReduceLROnPlateau(optimizer, mode='min', factor=0.1, patience=CFG.patience-5, min_lr=0),\n",
        "    }\n",
        "    return SCHEDULERS[CFG.scheduler_name]"
      ]
    },
    {
      "cell_type": "code",
      "execution_count": 15,
      "metadata": {
        "id": "FbBgFPsLT-CO"
      },
      "outputs": [],
      "source": [
        "# load model\n",
        "model = get_timm_model(CFG)\n",
        "\n",
        "criterion = get_criterion(CFG)\n",
        "\n",
        "# define optimizer\n",
        "# SGD, RMSprop, Momentum, NAG, Adam, AdamW, NAdam, RAdam, Adafactor\n",
        "optimizer = get_optimizers(model, CFG)\n",
        "\n",
        "# define scheduler\n",
        "# StepLR, ExponentialLR, CosineAnnealingLR, OneCycleLR, ReduceLROnPlateau\n",
        "scheduler = get_scheduler(optimizer, CFG)\n"
      ]
    },
    {
      "cell_type": "code",
      "execution_count": 16,
      "metadata": {},
      "outputs": [],
      "source": [
        "trainer = TrainModule(\n",
        "    model=model,\n",
        "    criterion=criterion,\n",
        "    optimizer=optimizer,\n",
        "    scheduler=scheduler,\n",
        "    train_loader=train_loader,\n",
        "    valid_loader=valid_loader,\n",
        "    cfg=CFG,\n",
        "    verbose=15,\n",
        "    run=run\n",
        ")"
      ]
    },
    {
      "cell_type": "code",
      "execution_count": 17,
      "metadata": {},
      "outputs": [
        {
          "data": {
            "text/plain": [
              "TimmWrapper(\n",
              "  (backbone): EfficientVitMsra(\n",
              "    (patch_embed): PatchEmbedding(\n",
              "      (conv1): ConvNorm(\n",
              "        (conv): Conv2d(3, 24, kernel_size=(3, 3), stride=(2, 2), padding=(1, 1), bias=False)\n",
              "        (bn): BatchNorm2d(24, eps=1e-05, momentum=0.1, affine=True, track_running_stats=True)\n",
              "      )\n",
              "      (relu1): ReLU()\n",
              "      (conv2): ConvNorm(\n",
              "        (conv): Conv2d(24, 48, kernel_size=(3, 3), stride=(2, 2), padding=(1, 1), bias=False)\n",
              "        (bn): BatchNorm2d(48, eps=1e-05, momentum=0.1, affine=True, track_running_stats=True)\n",
              "      )\n",
              "      (relu2): ReLU()\n",
              "      (conv3): ConvNorm(\n",
              "        (conv): Conv2d(48, 96, kernel_size=(3, 3), stride=(2, 2), padding=(1, 1), bias=False)\n",
              "        (bn): BatchNorm2d(96, eps=1e-05, momentum=0.1, affine=True, track_running_stats=True)\n",
              "      )\n",
              "      (relu3): ReLU()\n",
              "      (conv4): ConvNorm(\n",
              "        (conv): Conv2d(96, 192, kernel_size=(3, 3), stride=(2, 2), padding=(1, 1), bias=False)\n",
              "        (bn): BatchNorm2d(192, eps=1e-05, momentum=0.1, affine=True, track_running_stats=True)\n",
              "      )\n",
              "    )\n",
              "    (stages): Sequential(\n",
              "      (0): EfficientVitStage(\n",
              "        (downsample): Identity()\n",
              "        (blocks): Sequential(\n",
              "          (0): EfficientVitBlock(\n",
              "            (dw0): ResidualDrop(\n",
              "              (m): ConvNorm(\n",
              "                (conv): Conv2d(192, 192, kernel_size=(3, 3), stride=(1, 1), padding=(1, 1), groups=192, bias=False)\n",
              "                (bn): BatchNorm2d(192, eps=1e-05, momentum=0.1, affine=True, track_running_stats=True)\n",
              "              )\n",
              "            )\n",
              "            (ffn0): ResidualDrop(\n",
              "              (m): ConvMlp(\n",
              "                (pw1): ConvNorm(\n",
              "                  (conv): Conv2d(192, 384, kernel_size=(1, 1), stride=(1, 1), bias=False)\n",
              "                  (bn): BatchNorm2d(384, eps=1e-05, momentum=0.1, affine=True, track_running_stats=True)\n",
              "                )\n",
              "                (act): ReLU()\n",
              "                (pw2): ConvNorm(\n",
              "                  (conv): Conv2d(384, 192, kernel_size=(1, 1), stride=(1, 1), bias=False)\n",
              "                  (bn): BatchNorm2d(192, eps=1e-05, momentum=0.1, affine=True, track_running_stats=True)\n",
              "                )\n",
              "              )\n",
              "            )\n",
              "            (mixer): ResidualDrop(\n",
              "              (m): LocalWindowAttention(\n",
              "                (attn): CascadedGroupAttention(\n",
              "                  (qkvs): ModuleList(\n",
              "                    (0-2): 3 x ConvNorm(\n",
              "                      (conv): Conv2d(64, 96, kernel_size=(1, 1), stride=(1, 1), bias=False)\n",
              "                      (bn): BatchNorm2d(96, eps=1e-05, momentum=0.1, affine=True, track_running_stats=True)\n",
              "                    )\n",
              "                  )\n",
              "                  (dws): ModuleList(\n",
              "                    (0): ConvNorm(\n",
              "                      (conv): Conv2d(16, 16, kernel_size=(7, 7), stride=(1, 1), padding=(3, 3), groups=16, bias=False)\n",
              "                      (bn): BatchNorm2d(16, eps=1e-05, momentum=0.1, affine=True, track_running_stats=True)\n",
              "                    )\n",
              "                    (1): ConvNorm(\n",
              "                      (conv): Conv2d(16, 16, kernel_size=(5, 5), stride=(1, 1), padding=(2, 2), groups=16, bias=False)\n",
              "                      (bn): BatchNorm2d(16, eps=1e-05, momentum=0.1, affine=True, track_running_stats=True)\n",
              "                    )\n",
              "                    (2): ConvNorm(\n",
              "                      (conv): Conv2d(16, 16, kernel_size=(3, 3), stride=(1, 1), padding=(1, 1), groups=16, bias=False)\n",
              "                      (bn): BatchNorm2d(16, eps=1e-05, momentum=0.1, affine=True, track_running_stats=True)\n",
              "                    )\n",
              "                  )\n",
              "                  (proj): Sequential(\n",
              "                    (0): ReLU()\n",
              "                    (1): ConvNorm(\n",
              "                      (conv): Conv2d(192, 192, kernel_size=(1, 1), stride=(1, 1), bias=False)\n",
              "                      (bn): BatchNorm2d(192, eps=1e-05, momentum=0.1, affine=True, track_running_stats=True)\n",
              "                    )\n",
              "                  )\n",
              "                )\n",
              "              )\n",
              "            )\n",
              "            (dw1): ResidualDrop(\n",
              "              (m): ConvNorm(\n",
              "                (conv): Conv2d(192, 192, kernel_size=(3, 3), stride=(1, 1), padding=(1, 1), groups=192, bias=False)\n",
              "                (bn): BatchNorm2d(192, eps=1e-05, momentum=0.1, affine=True, track_running_stats=True)\n",
              "              )\n",
              "            )\n",
              "            (ffn1): ResidualDrop(\n",
              "              (m): ConvMlp(\n",
              "                (pw1): ConvNorm(\n",
              "                  (conv): Conv2d(192, 384, kernel_size=(1, 1), stride=(1, 1), bias=False)\n",
              "                  (bn): BatchNorm2d(384, eps=1e-05, momentum=0.1, affine=True, track_running_stats=True)\n",
              "                )\n",
              "                (act): ReLU()\n",
              "                (pw2): ConvNorm(\n",
              "                  (conv): Conv2d(384, 192, kernel_size=(1, 1), stride=(1, 1), bias=False)\n",
              "                  (bn): BatchNorm2d(192, eps=1e-05, momentum=0.1, affine=True, track_running_stats=True)\n",
              "                )\n",
              "              )\n",
              "            )\n",
              "          )\n",
              "        )\n",
              "      )\n",
              "      (1): EfficientVitStage(\n",
              "        (downsample): Sequential(\n",
              "          (res1): Sequential(\n",
              "            (0): ResidualDrop(\n",
              "              (m): ConvNorm(\n",
              "                (conv): Conv2d(192, 192, kernel_size=(3, 3), stride=(1, 1), padding=(1, 1), groups=192, bias=False)\n",
              "                (bn): BatchNorm2d(192, eps=1e-05, momentum=0.1, affine=True, track_running_stats=True)\n",
              "              )\n",
              "            )\n",
              "            (1): ResidualDrop(\n",
              "              (m): ConvMlp(\n",
              "                (pw1): ConvNorm(\n",
              "                  (conv): Conv2d(192, 384, kernel_size=(1, 1), stride=(1, 1), bias=False)\n",
              "                  (bn): BatchNorm2d(384, eps=1e-05, momentum=0.1, affine=True, track_running_stats=True)\n",
              "                )\n",
              "                (act): ReLU()\n",
              "                (pw2): ConvNorm(\n",
              "                  (conv): Conv2d(384, 192, kernel_size=(1, 1), stride=(1, 1), bias=False)\n",
              "                  (bn): BatchNorm2d(192, eps=1e-05, momentum=0.1, affine=True, track_running_stats=True)\n",
              "                )\n",
              "              )\n",
              "            )\n",
              "          )\n",
              "          (patchmerge): PatchMerging(\n",
              "            (conv1): ConvNorm(\n",
              "              (conv): Conv2d(192, 768, kernel_size=(1, 1), stride=(1, 1), bias=False)\n",
              "              (bn): BatchNorm2d(768, eps=1e-05, momentum=0.1, affine=True, track_running_stats=True)\n",
              "            )\n",
              "            (act): ReLU()\n",
              "            (conv2): ConvNorm(\n",
              "              (conv): Conv2d(768, 768, kernel_size=(3, 3), stride=(2, 2), padding=(1, 1), groups=768, bias=False)\n",
              "              (bn): BatchNorm2d(768, eps=1e-05, momentum=0.1, affine=True, track_running_stats=True)\n",
              "            )\n",
              "            (se): SEModule(\n",
              "              (fc1): Conv2d(768, 192, kernel_size=(1, 1), stride=(1, 1))\n",
              "              (bn): Identity()\n",
              "              (act): ReLU(inplace=True)\n",
              "              (fc2): Conv2d(192, 768, kernel_size=(1, 1), stride=(1, 1))\n",
              "              (gate): Sigmoid()\n",
              "            )\n",
              "            (conv3): ConvNorm(\n",
              "              (conv): Conv2d(768, 288, kernel_size=(1, 1), stride=(1, 1), bias=False)\n",
              "              (bn): BatchNorm2d(288, eps=1e-05, momentum=0.1, affine=True, track_running_stats=True)\n",
              "            )\n",
              "          )\n",
              "          (res2): Sequential(\n",
              "            (0): ResidualDrop(\n",
              "              (m): ConvNorm(\n",
              "                (conv): Conv2d(288, 288, kernel_size=(3, 3), stride=(1, 1), padding=(1, 1), groups=288, bias=False)\n",
              "                (bn): BatchNorm2d(288, eps=1e-05, momentum=0.1, affine=True, track_running_stats=True)\n",
              "              )\n",
              "            )\n",
              "            (1): ResidualDrop(\n",
              "              (m): ConvMlp(\n",
              "                (pw1): ConvNorm(\n",
              "                  (conv): Conv2d(288, 576, kernel_size=(1, 1), stride=(1, 1), bias=False)\n",
              "                  (bn): BatchNorm2d(576, eps=1e-05, momentum=0.1, affine=True, track_running_stats=True)\n",
              "                )\n",
              "                (act): ReLU()\n",
              "                (pw2): ConvNorm(\n",
              "                  (conv): Conv2d(576, 288, kernel_size=(1, 1), stride=(1, 1), bias=False)\n",
              "                  (bn): BatchNorm2d(288, eps=1e-05, momentum=0.1, affine=True, track_running_stats=True)\n",
              "                )\n",
              "              )\n",
              "            )\n",
              "          )\n",
              "        )\n",
              "        (blocks): Sequential(\n",
              "          (0): EfficientVitBlock(\n",
              "            (dw0): ResidualDrop(\n",
              "              (m): ConvNorm(\n",
              "                (conv): Conv2d(288, 288, kernel_size=(3, 3), stride=(1, 1), padding=(1, 1), groups=288, bias=False)\n",
              "                (bn): BatchNorm2d(288, eps=1e-05, momentum=0.1, affine=True, track_running_stats=True)\n",
              "              )\n",
              "            )\n",
              "            (ffn0): ResidualDrop(\n",
              "              (m): ConvMlp(\n",
              "                (pw1): ConvNorm(\n",
              "                  (conv): Conv2d(288, 576, kernel_size=(1, 1), stride=(1, 1), bias=False)\n",
              "                  (bn): BatchNorm2d(576, eps=1e-05, momentum=0.1, affine=True, track_running_stats=True)\n",
              "                )\n",
              "                (act): ReLU()\n",
              "                (pw2): ConvNorm(\n",
              "                  (conv): Conv2d(576, 288, kernel_size=(1, 1), stride=(1, 1), bias=False)\n",
              "                  (bn): BatchNorm2d(288, eps=1e-05, momentum=0.1, affine=True, track_running_stats=True)\n",
              "                )\n",
              "              )\n",
              "            )\n",
              "            (mixer): ResidualDrop(\n",
              "              (m): LocalWindowAttention(\n",
              "                (attn): CascadedGroupAttention(\n",
              "                  (qkvs): ModuleList(\n",
              "                    (0-2): 3 x ConvNorm(\n",
              "                      (conv): Conv2d(96, 128, kernel_size=(1, 1), stride=(1, 1), bias=False)\n",
              "                      (bn): BatchNorm2d(128, eps=1e-05, momentum=0.1, affine=True, track_running_stats=True)\n",
              "                    )\n",
              "                  )\n",
              "                  (dws): ModuleList(\n",
              "                    (0): ConvNorm(\n",
              "                      (conv): Conv2d(16, 16, kernel_size=(7, 7), stride=(1, 1), padding=(3, 3), groups=16, bias=False)\n",
              "                      (bn): BatchNorm2d(16, eps=1e-05, momentum=0.1, affine=True, track_running_stats=True)\n",
              "                    )\n",
              "                    (1): ConvNorm(\n",
              "                      (conv): Conv2d(16, 16, kernel_size=(5, 5), stride=(1, 1), padding=(2, 2), groups=16, bias=False)\n",
              "                      (bn): BatchNorm2d(16, eps=1e-05, momentum=0.1, affine=True, track_running_stats=True)\n",
              "                    )\n",
              "                    (2): ConvNorm(\n",
              "                      (conv): Conv2d(16, 16, kernel_size=(3, 3), stride=(1, 1), padding=(1, 1), groups=16, bias=False)\n",
              "                      (bn): BatchNorm2d(16, eps=1e-05, momentum=0.1, affine=True, track_running_stats=True)\n",
              "                    )\n",
              "                  )\n",
              "                  (proj): Sequential(\n",
              "                    (0): ReLU()\n",
              "                    (1): ConvNorm(\n",
              "                      (conv): Conv2d(288, 288, kernel_size=(1, 1), stride=(1, 1), bias=False)\n",
              "                      (bn): BatchNorm2d(288, eps=1e-05, momentum=0.1, affine=True, track_running_stats=True)\n",
              "                    )\n",
              "                  )\n",
              "                )\n",
              "              )\n",
              "            )\n",
              "            (dw1): ResidualDrop(\n",
              "              (m): ConvNorm(\n",
              "                (conv): Conv2d(288, 288, kernel_size=(3, 3), stride=(1, 1), padding=(1, 1), groups=288, bias=False)\n",
              "                (bn): BatchNorm2d(288, eps=1e-05, momentum=0.1, affine=True, track_running_stats=True)\n",
              "              )\n",
              "            )\n",
              "            (ffn1): ResidualDrop(\n",
              "              (m): ConvMlp(\n",
              "                (pw1): ConvNorm(\n",
              "                  (conv): Conv2d(288, 576, kernel_size=(1, 1), stride=(1, 1), bias=False)\n",
              "                  (bn): BatchNorm2d(576, eps=1e-05, momentum=0.1, affine=True, track_running_stats=True)\n",
              "                )\n",
              "                (act): ReLU()\n",
              "                (pw2): ConvNorm(\n",
              "                  (conv): Conv2d(576, 288, kernel_size=(1, 1), stride=(1, 1), bias=False)\n",
              "                  (bn): BatchNorm2d(288, eps=1e-05, momentum=0.1, affine=True, track_running_stats=True)\n",
              "                )\n",
              "              )\n",
              "            )\n",
              "          )\n",
              "          (1): EfficientVitBlock(\n",
              "            (dw0): ResidualDrop(\n",
              "              (m): ConvNorm(\n",
              "                (conv): Conv2d(288, 288, kernel_size=(3, 3), stride=(1, 1), padding=(1, 1), groups=288, bias=False)\n",
              "                (bn): BatchNorm2d(288, eps=1e-05, momentum=0.1, affine=True, track_running_stats=True)\n",
              "              )\n",
              "            )\n",
              "            (ffn0): ResidualDrop(\n",
              "              (m): ConvMlp(\n",
              "                (pw1): ConvNorm(\n",
              "                  (conv): Conv2d(288, 576, kernel_size=(1, 1), stride=(1, 1), bias=False)\n",
              "                  (bn): BatchNorm2d(576, eps=1e-05, momentum=0.1, affine=True, track_running_stats=True)\n",
              "                )\n",
              "                (act): ReLU()\n",
              "                (pw2): ConvNorm(\n",
              "                  (conv): Conv2d(576, 288, kernel_size=(1, 1), stride=(1, 1), bias=False)\n",
              "                  (bn): BatchNorm2d(288, eps=1e-05, momentum=0.1, affine=True, track_running_stats=True)\n",
              "                )\n",
              "              )\n",
              "            )\n",
              "            (mixer): ResidualDrop(\n",
              "              (m): LocalWindowAttention(\n",
              "                (attn): CascadedGroupAttention(\n",
              "                  (qkvs): ModuleList(\n",
              "                    (0-2): 3 x ConvNorm(\n",
              "                      (conv): Conv2d(96, 128, kernel_size=(1, 1), stride=(1, 1), bias=False)\n",
              "                      (bn): BatchNorm2d(128, eps=1e-05, momentum=0.1, affine=True, track_running_stats=True)\n",
              "                    )\n",
              "                  )\n",
              "                  (dws): ModuleList(\n",
              "                    (0): ConvNorm(\n",
              "                      (conv): Conv2d(16, 16, kernel_size=(7, 7), stride=(1, 1), padding=(3, 3), groups=16, bias=False)\n",
              "                      (bn): BatchNorm2d(16, eps=1e-05, momentum=0.1, affine=True, track_running_stats=True)\n",
              "                    )\n",
              "                    (1): ConvNorm(\n",
              "                      (conv): Conv2d(16, 16, kernel_size=(5, 5), stride=(1, 1), padding=(2, 2), groups=16, bias=False)\n",
              "                      (bn): BatchNorm2d(16, eps=1e-05, momentum=0.1, affine=True, track_running_stats=True)\n",
              "                    )\n",
              "                    (2): ConvNorm(\n",
              "                      (conv): Conv2d(16, 16, kernel_size=(3, 3), stride=(1, 1), padding=(1, 1), groups=16, bias=False)\n",
              "                      (bn): BatchNorm2d(16, eps=1e-05, momentum=0.1, affine=True, track_running_stats=True)\n",
              "                    )\n",
              "                  )\n",
              "                  (proj): Sequential(\n",
              "                    (0): ReLU()\n",
              "                    (1): ConvNorm(\n",
              "                      (conv): Conv2d(288, 288, kernel_size=(1, 1), stride=(1, 1), bias=False)\n",
              "                      (bn): BatchNorm2d(288, eps=1e-05, momentum=0.1, affine=True, track_running_stats=True)\n",
              "                    )\n",
              "                  )\n",
              "                )\n",
              "              )\n",
              "            )\n",
              "            (dw1): ResidualDrop(\n",
              "              (m): ConvNorm(\n",
              "                (conv): Conv2d(288, 288, kernel_size=(3, 3), stride=(1, 1), padding=(1, 1), groups=288, bias=False)\n",
              "                (bn): BatchNorm2d(288, eps=1e-05, momentum=0.1, affine=True, track_running_stats=True)\n",
              "              )\n",
              "            )\n",
              "            (ffn1): ResidualDrop(\n",
              "              (m): ConvMlp(\n",
              "                (pw1): ConvNorm(\n",
              "                  (conv): Conv2d(288, 576, kernel_size=(1, 1), stride=(1, 1), bias=False)\n",
              "                  (bn): BatchNorm2d(576, eps=1e-05, momentum=0.1, affine=True, track_running_stats=True)\n",
              "                )\n",
              "                (act): ReLU()\n",
              "                (pw2): ConvNorm(\n",
              "                  (conv): Conv2d(576, 288, kernel_size=(1, 1), stride=(1, 1), bias=False)\n",
              "                  (bn): BatchNorm2d(288, eps=1e-05, momentum=0.1, affine=True, track_running_stats=True)\n",
              "                )\n",
              "              )\n",
              "            )\n",
              "          )\n",
              "          (2): EfficientVitBlock(\n",
              "            (dw0): ResidualDrop(\n",
              "              (m): ConvNorm(\n",
              "                (conv): Conv2d(288, 288, kernel_size=(3, 3), stride=(1, 1), padding=(1, 1), groups=288, bias=False)\n",
              "                (bn): BatchNorm2d(288, eps=1e-05, momentum=0.1, affine=True, track_running_stats=True)\n",
              "              )\n",
              "            )\n",
              "            (ffn0): ResidualDrop(\n",
              "              (m): ConvMlp(\n",
              "                (pw1): ConvNorm(\n",
              "                  (conv): Conv2d(288, 576, kernel_size=(1, 1), stride=(1, 1), bias=False)\n",
              "                  (bn): BatchNorm2d(576, eps=1e-05, momentum=0.1, affine=True, track_running_stats=True)\n",
              "                )\n",
              "                (act): ReLU()\n",
              "                (pw2): ConvNorm(\n",
              "                  (conv): Conv2d(576, 288, kernel_size=(1, 1), stride=(1, 1), bias=False)\n",
              "                  (bn): BatchNorm2d(288, eps=1e-05, momentum=0.1, affine=True, track_running_stats=True)\n",
              "                )\n",
              "              )\n",
              "            )\n",
              "            (mixer): ResidualDrop(\n",
              "              (m): LocalWindowAttention(\n",
              "                (attn): CascadedGroupAttention(\n",
              "                  (qkvs): ModuleList(\n",
              "                    (0-2): 3 x ConvNorm(\n",
              "                      (conv): Conv2d(96, 128, kernel_size=(1, 1), stride=(1, 1), bias=False)\n",
              "                      (bn): BatchNorm2d(128, eps=1e-05, momentum=0.1, affine=True, track_running_stats=True)\n",
              "                    )\n",
              "                  )\n",
              "                  (dws): ModuleList(\n",
              "                    (0): ConvNorm(\n",
              "                      (conv): Conv2d(16, 16, kernel_size=(7, 7), stride=(1, 1), padding=(3, 3), groups=16, bias=False)\n",
              "                      (bn): BatchNorm2d(16, eps=1e-05, momentum=0.1, affine=True, track_running_stats=True)\n",
              "                    )\n",
              "                    (1): ConvNorm(\n",
              "                      (conv): Conv2d(16, 16, kernel_size=(5, 5), stride=(1, 1), padding=(2, 2), groups=16, bias=False)\n",
              "                      (bn): BatchNorm2d(16, eps=1e-05, momentum=0.1, affine=True, track_running_stats=True)\n",
              "                    )\n",
              "                    (2): ConvNorm(\n",
              "                      (conv): Conv2d(16, 16, kernel_size=(3, 3), stride=(1, 1), padding=(1, 1), groups=16, bias=False)\n",
              "                      (bn): BatchNorm2d(16, eps=1e-05, momentum=0.1, affine=True, track_running_stats=True)\n",
              "                    )\n",
              "                  )\n",
              "                  (proj): Sequential(\n",
              "                    (0): ReLU()\n",
              "                    (1): ConvNorm(\n",
              "                      (conv): Conv2d(288, 288, kernel_size=(1, 1), stride=(1, 1), bias=False)\n",
              "                      (bn): BatchNorm2d(288, eps=1e-05, momentum=0.1, affine=True, track_running_stats=True)\n",
              "                    )\n",
              "                  )\n",
              "                )\n",
              "              )\n",
              "            )\n",
              "            (dw1): ResidualDrop(\n",
              "              (m): ConvNorm(\n",
              "                (conv): Conv2d(288, 288, kernel_size=(3, 3), stride=(1, 1), padding=(1, 1), groups=288, bias=False)\n",
              "                (bn): BatchNorm2d(288, eps=1e-05, momentum=0.1, affine=True, track_running_stats=True)\n",
              "              )\n",
              "            )\n",
              "            (ffn1): ResidualDrop(\n",
              "              (m): ConvMlp(\n",
              "                (pw1): ConvNorm(\n",
              "                  (conv): Conv2d(288, 576, kernel_size=(1, 1), stride=(1, 1), bias=False)\n",
              "                  (bn): BatchNorm2d(576, eps=1e-05, momentum=0.1, affine=True, track_running_stats=True)\n",
              "                )\n",
              "                (act): ReLU()\n",
              "                (pw2): ConvNorm(\n",
              "                  (conv): Conv2d(576, 288, kernel_size=(1, 1), stride=(1, 1), bias=False)\n",
              "                  (bn): BatchNorm2d(288, eps=1e-05, momentum=0.1, affine=True, track_running_stats=True)\n",
              "                )\n",
              "              )\n",
              "            )\n",
              "          )\n",
              "        )\n",
              "      )\n",
              "      (2): EfficientVitStage(\n",
              "        (downsample): Sequential(\n",
              "          (res1): Sequential(\n",
              "            (0): ResidualDrop(\n",
              "              (m): ConvNorm(\n",
              "                (conv): Conv2d(288, 288, kernel_size=(3, 3), stride=(1, 1), padding=(1, 1), groups=288, bias=False)\n",
              "                (bn): BatchNorm2d(288, eps=1e-05, momentum=0.1, affine=True, track_running_stats=True)\n",
              "              )\n",
              "            )\n",
              "            (1): ResidualDrop(\n",
              "              (m): ConvMlp(\n",
              "                (pw1): ConvNorm(\n",
              "                  (conv): Conv2d(288, 576, kernel_size=(1, 1), stride=(1, 1), bias=False)\n",
              "                  (bn): BatchNorm2d(576, eps=1e-05, momentum=0.1, affine=True, track_running_stats=True)\n",
              "                )\n",
              "                (act): ReLU()\n",
              "                (pw2): ConvNorm(\n",
              "                  (conv): Conv2d(576, 288, kernel_size=(1, 1), stride=(1, 1), bias=False)\n",
              "                  (bn): BatchNorm2d(288, eps=1e-05, momentum=0.1, affine=True, track_running_stats=True)\n",
              "                )\n",
              "              )\n",
              "            )\n",
              "          )\n",
              "          (patchmerge): PatchMerging(\n",
              "            (conv1): ConvNorm(\n",
              "              (conv): Conv2d(288, 1152, kernel_size=(1, 1), stride=(1, 1), bias=False)\n",
              "              (bn): BatchNorm2d(1152, eps=1e-05, momentum=0.1, affine=True, track_running_stats=True)\n",
              "            )\n",
              "            (act): ReLU()\n",
              "            (conv2): ConvNorm(\n",
              "              (conv): Conv2d(1152, 1152, kernel_size=(3, 3), stride=(2, 2), padding=(1, 1), groups=1152, bias=False)\n",
              "              (bn): BatchNorm2d(1152, eps=1e-05, momentum=0.1, affine=True, track_running_stats=True)\n",
              "            )\n",
              "            (se): SEModule(\n",
              "              (fc1): Conv2d(1152, 288, kernel_size=(1, 1), stride=(1, 1))\n",
              "              (bn): Identity()\n",
              "              (act): ReLU(inplace=True)\n",
              "              (fc2): Conv2d(288, 1152, kernel_size=(1, 1), stride=(1, 1))\n",
              "              (gate): Sigmoid()\n",
              "            )\n",
              "            (conv3): ConvNorm(\n",
              "              (conv): Conv2d(1152, 384, kernel_size=(1, 1), stride=(1, 1), bias=False)\n",
              "              (bn): BatchNorm2d(384, eps=1e-05, momentum=0.1, affine=True, track_running_stats=True)\n",
              "            )\n",
              "          )\n",
              "          (res2): Sequential(\n",
              "            (0): ResidualDrop(\n",
              "              (m): ConvNorm(\n",
              "                (conv): Conv2d(384, 384, kernel_size=(3, 3), stride=(1, 1), padding=(1, 1), groups=384, bias=False)\n",
              "                (bn): BatchNorm2d(384, eps=1e-05, momentum=0.1, affine=True, track_running_stats=True)\n",
              "              )\n",
              "            )\n",
              "            (1): ResidualDrop(\n",
              "              (m): ConvMlp(\n",
              "                (pw1): ConvNorm(\n",
              "                  (conv): Conv2d(384, 768, kernel_size=(1, 1), stride=(1, 1), bias=False)\n",
              "                  (bn): BatchNorm2d(768, eps=1e-05, momentum=0.1, affine=True, track_running_stats=True)\n",
              "                )\n",
              "                (act): ReLU()\n",
              "                (pw2): ConvNorm(\n",
              "                  (conv): Conv2d(768, 384, kernel_size=(1, 1), stride=(1, 1), bias=False)\n",
              "                  (bn): BatchNorm2d(384, eps=1e-05, momentum=0.1, affine=True, track_running_stats=True)\n",
              "                )\n",
              "              )\n",
              "            )\n",
              "          )\n",
              "        )\n",
              "        (blocks): Sequential(\n",
              "          (0): EfficientVitBlock(\n",
              "            (dw0): ResidualDrop(\n",
              "              (m): ConvNorm(\n",
              "                (conv): Conv2d(384, 384, kernel_size=(3, 3), stride=(1, 1), padding=(1, 1), groups=384, bias=False)\n",
              "                (bn): BatchNorm2d(384, eps=1e-05, momentum=0.1, affine=True, track_running_stats=True)\n",
              "              )\n",
              "            )\n",
              "            (ffn0): ResidualDrop(\n",
              "              (m): ConvMlp(\n",
              "                (pw1): ConvNorm(\n",
              "                  (conv): Conv2d(384, 768, kernel_size=(1, 1), stride=(1, 1), bias=False)\n",
              "                  (bn): BatchNorm2d(768, eps=1e-05, momentum=0.1, affine=True, track_running_stats=True)\n",
              "                )\n",
              "                (act): ReLU()\n",
              "                (pw2): ConvNorm(\n",
              "                  (conv): Conv2d(768, 384, kernel_size=(1, 1), stride=(1, 1), bias=False)\n",
              "                  (bn): BatchNorm2d(384, eps=1e-05, momentum=0.1, affine=True, track_running_stats=True)\n",
              "                )\n",
              "              )\n",
              "            )\n",
              "            (mixer): ResidualDrop(\n",
              "              (m): LocalWindowAttention(\n",
              "                (attn): CascadedGroupAttention(\n",
              "                  (qkvs): ModuleList(\n",
              "                    (0-3): 4 x ConvNorm(\n",
              "                      (conv): Conv2d(96, 128, kernel_size=(1, 1), stride=(1, 1), bias=False)\n",
              "                      (bn): BatchNorm2d(128, eps=1e-05, momentum=0.1, affine=True, track_running_stats=True)\n",
              "                    )\n",
              "                  )\n",
              "                  (dws): ModuleList(\n",
              "                    (0): ConvNorm(\n",
              "                      (conv): Conv2d(16, 16, kernel_size=(7, 7), stride=(1, 1), padding=(3, 3), groups=16, bias=False)\n",
              "                      (bn): BatchNorm2d(16, eps=1e-05, momentum=0.1, affine=True, track_running_stats=True)\n",
              "                    )\n",
              "                    (1): ConvNorm(\n",
              "                      (conv): Conv2d(16, 16, kernel_size=(5, 5), stride=(1, 1), padding=(2, 2), groups=16, bias=False)\n",
              "                      (bn): BatchNorm2d(16, eps=1e-05, momentum=0.1, affine=True, track_running_stats=True)\n",
              "                    )\n",
              "                    (2-3): 2 x ConvNorm(\n",
              "                      (conv): Conv2d(16, 16, kernel_size=(3, 3), stride=(1, 1), padding=(1, 1), groups=16, bias=False)\n",
              "                      (bn): BatchNorm2d(16, eps=1e-05, momentum=0.1, affine=True, track_running_stats=True)\n",
              "                    )\n",
              "                  )\n",
              "                  (proj): Sequential(\n",
              "                    (0): ReLU()\n",
              "                    (1): ConvNorm(\n",
              "                      (conv): Conv2d(384, 384, kernel_size=(1, 1), stride=(1, 1), bias=False)\n",
              "                      (bn): BatchNorm2d(384, eps=1e-05, momentum=0.1, affine=True, track_running_stats=True)\n",
              "                    )\n",
              "                  )\n",
              "                )\n",
              "              )\n",
              "            )\n",
              "            (dw1): ResidualDrop(\n",
              "              (m): ConvNorm(\n",
              "                (conv): Conv2d(384, 384, kernel_size=(3, 3), stride=(1, 1), padding=(1, 1), groups=384, bias=False)\n",
              "                (bn): BatchNorm2d(384, eps=1e-05, momentum=0.1, affine=True, track_running_stats=True)\n",
              "              )\n",
              "            )\n",
              "            (ffn1): ResidualDrop(\n",
              "              (m): ConvMlp(\n",
              "                (pw1): ConvNorm(\n",
              "                  (conv): Conv2d(384, 768, kernel_size=(1, 1), stride=(1, 1), bias=False)\n",
              "                  (bn): BatchNorm2d(768, eps=1e-05, momentum=0.1, affine=True, track_running_stats=True)\n",
              "                )\n",
              "                (act): ReLU()\n",
              "                (pw2): ConvNorm(\n",
              "                  (conv): Conv2d(768, 384, kernel_size=(1, 1), stride=(1, 1), bias=False)\n",
              "                  (bn): BatchNorm2d(384, eps=1e-05, momentum=0.1, affine=True, track_running_stats=True)\n",
              "                )\n",
              "              )\n",
              "            )\n",
              "          )\n",
              "          (1): EfficientVitBlock(\n",
              "            (dw0): ResidualDrop(\n",
              "              (m): ConvNorm(\n",
              "                (conv): Conv2d(384, 384, kernel_size=(3, 3), stride=(1, 1), padding=(1, 1), groups=384, bias=False)\n",
              "                (bn): BatchNorm2d(384, eps=1e-05, momentum=0.1, affine=True, track_running_stats=True)\n",
              "              )\n",
              "            )\n",
              "            (ffn0): ResidualDrop(\n",
              "              (m): ConvMlp(\n",
              "                (pw1): ConvNorm(\n",
              "                  (conv): Conv2d(384, 768, kernel_size=(1, 1), stride=(1, 1), bias=False)\n",
              "                  (bn): BatchNorm2d(768, eps=1e-05, momentum=0.1, affine=True, track_running_stats=True)\n",
              "                )\n",
              "                (act): ReLU()\n",
              "                (pw2): ConvNorm(\n",
              "                  (conv): Conv2d(768, 384, kernel_size=(1, 1), stride=(1, 1), bias=False)\n",
              "                  (bn): BatchNorm2d(384, eps=1e-05, momentum=0.1, affine=True, track_running_stats=True)\n",
              "                )\n",
              "              )\n",
              "            )\n",
              "            (mixer): ResidualDrop(\n",
              "              (m): LocalWindowAttention(\n",
              "                (attn): CascadedGroupAttention(\n",
              "                  (qkvs): ModuleList(\n",
              "                    (0-3): 4 x ConvNorm(\n",
              "                      (conv): Conv2d(96, 128, kernel_size=(1, 1), stride=(1, 1), bias=False)\n",
              "                      (bn): BatchNorm2d(128, eps=1e-05, momentum=0.1, affine=True, track_running_stats=True)\n",
              "                    )\n",
              "                  )\n",
              "                  (dws): ModuleList(\n",
              "                    (0): ConvNorm(\n",
              "                      (conv): Conv2d(16, 16, kernel_size=(7, 7), stride=(1, 1), padding=(3, 3), groups=16, bias=False)\n",
              "                      (bn): BatchNorm2d(16, eps=1e-05, momentum=0.1, affine=True, track_running_stats=True)\n",
              "                    )\n",
              "                    (1): ConvNorm(\n",
              "                      (conv): Conv2d(16, 16, kernel_size=(5, 5), stride=(1, 1), padding=(2, 2), groups=16, bias=False)\n",
              "                      (bn): BatchNorm2d(16, eps=1e-05, momentum=0.1, affine=True, track_running_stats=True)\n",
              "                    )\n",
              "                    (2-3): 2 x ConvNorm(\n",
              "                      (conv): Conv2d(16, 16, kernel_size=(3, 3), stride=(1, 1), padding=(1, 1), groups=16, bias=False)\n",
              "                      (bn): BatchNorm2d(16, eps=1e-05, momentum=0.1, affine=True, track_running_stats=True)\n",
              "                    )\n",
              "                  )\n",
              "                  (proj): Sequential(\n",
              "                    (0): ReLU()\n",
              "                    (1): ConvNorm(\n",
              "                      (conv): Conv2d(384, 384, kernel_size=(1, 1), stride=(1, 1), bias=False)\n",
              "                      (bn): BatchNorm2d(384, eps=1e-05, momentum=0.1, affine=True, track_running_stats=True)\n",
              "                    )\n",
              "                  )\n",
              "                )\n",
              "              )\n",
              "            )\n",
              "            (dw1): ResidualDrop(\n",
              "              (m): ConvNorm(\n",
              "                (conv): Conv2d(384, 384, kernel_size=(3, 3), stride=(1, 1), padding=(1, 1), groups=384, bias=False)\n",
              "                (bn): BatchNorm2d(384, eps=1e-05, momentum=0.1, affine=True, track_running_stats=True)\n",
              "              )\n",
              "            )\n",
              "            (ffn1): ResidualDrop(\n",
              "              (m): ConvMlp(\n",
              "                (pw1): ConvNorm(\n",
              "                  (conv): Conv2d(384, 768, kernel_size=(1, 1), stride=(1, 1), bias=False)\n",
              "                  (bn): BatchNorm2d(768, eps=1e-05, momentum=0.1, affine=True, track_running_stats=True)\n",
              "                )\n",
              "                (act): ReLU()\n",
              "                (pw2): ConvNorm(\n",
              "                  (conv): Conv2d(768, 384, kernel_size=(1, 1), stride=(1, 1), bias=False)\n",
              "                  (bn): BatchNorm2d(384, eps=1e-05, momentum=0.1, affine=True, track_running_stats=True)\n",
              "                )\n",
              "              )\n",
              "            )\n",
              "          )\n",
              "          (2): EfficientVitBlock(\n",
              "            (dw0): ResidualDrop(\n",
              "              (m): ConvNorm(\n",
              "                (conv): Conv2d(384, 384, kernel_size=(3, 3), stride=(1, 1), padding=(1, 1), groups=384, bias=False)\n",
              "                (bn): BatchNorm2d(384, eps=1e-05, momentum=0.1, affine=True, track_running_stats=True)\n",
              "              )\n",
              "            )\n",
              "            (ffn0): ResidualDrop(\n",
              "              (m): ConvMlp(\n",
              "                (pw1): ConvNorm(\n",
              "                  (conv): Conv2d(384, 768, kernel_size=(1, 1), stride=(1, 1), bias=False)\n",
              "                  (bn): BatchNorm2d(768, eps=1e-05, momentum=0.1, affine=True, track_running_stats=True)\n",
              "                )\n",
              "                (act): ReLU()\n",
              "                (pw2): ConvNorm(\n",
              "                  (conv): Conv2d(768, 384, kernel_size=(1, 1), stride=(1, 1), bias=False)\n",
              "                  (bn): BatchNorm2d(384, eps=1e-05, momentum=0.1, affine=True, track_running_stats=True)\n",
              "                )\n",
              "              )\n",
              "            )\n",
              "            (mixer): ResidualDrop(\n",
              "              (m): LocalWindowAttention(\n",
              "                (attn): CascadedGroupAttention(\n",
              "                  (qkvs): ModuleList(\n",
              "                    (0-3): 4 x ConvNorm(\n",
              "                      (conv): Conv2d(96, 128, kernel_size=(1, 1), stride=(1, 1), bias=False)\n",
              "                      (bn): BatchNorm2d(128, eps=1e-05, momentum=0.1, affine=True, track_running_stats=True)\n",
              "                    )\n",
              "                  )\n",
              "                  (dws): ModuleList(\n",
              "                    (0): ConvNorm(\n",
              "                      (conv): Conv2d(16, 16, kernel_size=(7, 7), stride=(1, 1), padding=(3, 3), groups=16, bias=False)\n",
              "                      (bn): BatchNorm2d(16, eps=1e-05, momentum=0.1, affine=True, track_running_stats=True)\n",
              "                    )\n",
              "                    (1): ConvNorm(\n",
              "                      (conv): Conv2d(16, 16, kernel_size=(5, 5), stride=(1, 1), padding=(2, 2), groups=16, bias=False)\n",
              "                      (bn): BatchNorm2d(16, eps=1e-05, momentum=0.1, affine=True, track_running_stats=True)\n",
              "                    )\n",
              "                    (2-3): 2 x ConvNorm(\n",
              "                      (conv): Conv2d(16, 16, kernel_size=(3, 3), stride=(1, 1), padding=(1, 1), groups=16, bias=False)\n",
              "                      (bn): BatchNorm2d(16, eps=1e-05, momentum=0.1, affine=True, track_running_stats=True)\n",
              "                    )\n",
              "                  )\n",
              "                  (proj): Sequential(\n",
              "                    (0): ReLU()\n",
              "                    (1): ConvNorm(\n",
              "                      (conv): Conv2d(384, 384, kernel_size=(1, 1), stride=(1, 1), bias=False)\n",
              "                      (bn): BatchNorm2d(384, eps=1e-05, momentum=0.1, affine=True, track_running_stats=True)\n",
              "                    )\n",
              "                  )\n",
              "                )\n",
              "              )\n",
              "            )\n",
              "            (dw1): ResidualDrop(\n",
              "              (m): ConvNorm(\n",
              "                (conv): Conv2d(384, 384, kernel_size=(3, 3), stride=(1, 1), padding=(1, 1), groups=384, bias=False)\n",
              "                (bn): BatchNorm2d(384, eps=1e-05, momentum=0.1, affine=True, track_running_stats=True)\n",
              "              )\n",
              "            )\n",
              "            (ffn1): ResidualDrop(\n",
              "              (m): ConvMlp(\n",
              "                (pw1): ConvNorm(\n",
              "                  (conv): Conv2d(384, 768, kernel_size=(1, 1), stride=(1, 1), bias=False)\n",
              "                  (bn): BatchNorm2d(768, eps=1e-05, momentum=0.1, affine=True, track_running_stats=True)\n",
              "                )\n",
              "                (act): ReLU()\n",
              "                (pw2): ConvNorm(\n",
              "                  (conv): Conv2d(768, 384, kernel_size=(1, 1), stride=(1, 1), bias=False)\n",
              "                  (bn): BatchNorm2d(384, eps=1e-05, momentum=0.1, affine=True, track_running_stats=True)\n",
              "                )\n",
              "              )\n",
              "            )\n",
              "          )\n",
              "          (3): EfficientVitBlock(\n",
              "            (dw0): ResidualDrop(\n",
              "              (m): ConvNorm(\n",
              "                (conv): Conv2d(384, 384, kernel_size=(3, 3), stride=(1, 1), padding=(1, 1), groups=384, bias=False)\n",
              "                (bn): BatchNorm2d(384, eps=1e-05, momentum=0.1, affine=True, track_running_stats=True)\n",
              "              )\n",
              "            )\n",
              "            (ffn0): ResidualDrop(\n",
              "              (m): ConvMlp(\n",
              "                (pw1): ConvNorm(\n",
              "                  (conv): Conv2d(384, 768, kernel_size=(1, 1), stride=(1, 1), bias=False)\n",
              "                  (bn): BatchNorm2d(768, eps=1e-05, momentum=0.1, affine=True, track_running_stats=True)\n",
              "                )\n",
              "                (act): ReLU()\n",
              "                (pw2): ConvNorm(\n",
              "                  (conv): Conv2d(768, 384, kernel_size=(1, 1), stride=(1, 1), bias=False)\n",
              "                  (bn): BatchNorm2d(384, eps=1e-05, momentum=0.1, affine=True, track_running_stats=True)\n",
              "                )\n",
              "              )\n",
              "            )\n",
              "            (mixer): ResidualDrop(\n",
              "              (m): LocalWindowAttention(\n",
              "                (attn): CascadedGroupAttention(\n",
              "                  (qkvs): ModuleList(\n",
              "                    (0-3): 4 x ConvNorm(\n",
              "                      (conv): Conv2d(96, 128, kernel_size=(1, 1), stride=(1, 1), bias=False)\n",
              "                      (bn): BatchNorm2d(128, eps=1e-05, momentum=0.1, affine=True, track_running_stats=True)\n",
              "                    )\n",
              "                  )\n",
              "                  (dws): ModuleList(\n",
              "                    (0): ConvNorm(\n",
              "                      (conv): Conv2d(16, 16, kernel_size=(7, 7), stride=(1, 1), padding=(3, 3), groups=16, bias=False)\n",
              "                      (bn): BatchNorm2d(16, eps=1e-05, momentum=0.1, affine=True, track_running_stats=True)\n",
              "                    )\n",
              "                    (1): ConvNorm(\n",
              "                      (conv): Conv2d(16, 16, kernel_size=(5, 5), stride=(1, 1), padding=(2, 2), groups=16, bias=False)\n",
              "                      (bn): BatchNorm2d(16, eps=1e-05, momentum=0.1, affine=True, track_running_stats=True)\n",
              "                    )\n",
              "                    (2-3): 2 x ConvNorm(\n",
              "                      (conv): Conv2d(16, 16, kernel_size=(3, 3), stride=(1, 1), padding=(1, 1), groups=16, bias=False)\n",
              "                      (bn): BatchNorm2d(16, eps=1e-05, momentum=0.1, affine=True, track_running_stats=True)\n",
              "                    )\n",
              "                  )\n",
              "                  (proj): Sequential(\n",
              "                    (0): ReLU()\n",
              "                    (1): ConvNorm(\n",
              "                      (conv): Conv2d(384, 384, kernel_size=(1, 1), stride=(1, 1), bias=False)\n",
              "                      (bn): BatchNorm2d(384, eps=1e-05, momentum=0.1, affine=True, track_running_stats=True)\n",
              "                    )\n",
              "                  )\n",
              "                )\n",
              "              )\n",
              "            )\n",
              "            (dw1): ResidualDrop(\n",
              "              (m): ConvNorm(\n",
              "                (conv): Conv2d(384, 384, kernel_size=(3, 3), stride=(1, 1), padding=(1, 1), groups=384, bias=False)\n",
              "                (bn): BatchNorm2d(384, eps=1e-05, momentum=0.1, affine=True, track_running_stats=True)\n",
              "              )\n",
              "            )\n",
              "            (ffn1): ResidualDrop(\n",
              "              (m): ConvMlp(\n",
              "                (pw1): ConvNorm(\n",
              "                  (conv): Conv2d(384, 768, kernel_size=(1, 1), stride=(1, 1), bias=False)\n",
              "                  (bn): BatchNorm2d(768, eps=1e-05, momentum=0.1, affine=True, track_running_stats=True)\n",
              "                )\n",
              "                (act): ReLU()\n",
              "                (pw2): ConvNorm(\n",
              "                  (conv): Conv2d(768, 384, kernel_size=(1, 1), stride=(1, 1), bias=False)\n",
              "                  (bn): BatchNorm2d(384, eps=1e-05, momentum=0.1, affine=True, track_running_stats=True)\n",
              "                )\n",
              "              )\n",
              "            )\n",
              "          )\n",
              "        )\n",
              "      )\n",
              "    )\n",
              "    (global_pool): SelectAdaptivePool2d(pool_type=avg, flatten=Flatten(start_dim=1, end_dim=-1))\n",
              "    (head): Identity()\n",
              "  )\n",
              "  (dropout): Dropout(p=0.3, inplace=False)\n",
              "  (activation): SELU()\n",
              "  (classifier): Sequential(\n",
              "    (0): Linear(in_features=384, out_features=1000, bias=True)\n",
              "    (1): BatchNorm1d(1000, eps=1e-05, momentum=0.1, affine=True, track_running_stats=True)\n",
              "    (2): SELU()\n",
              "    (3): Dropout(p=0.3, inplace=False)\n",
              "    (4): Linear(in_features=1000, out_features=17, bias=True)\n",
              "  )\n",
              ")"
            ]
          },
          "execution_count": 17,
          "metadata": {},
          "output_type": "execute_result"
        }
      ],
      "source": [
        "trainer.model"
      ]
    },
    {
      "cell_type": "code",
      "execution_count": 18,
      "metadata": {},
      "outputs": [
        {
          "name": "stderr",
          "output_type": "stream",
          "text": [
            "\u001b[34m\u001b[1mwandb\u001b[0m: logging graph, to disable use `wandb.watch(log_graph=False)`\n",
            "  0%|          | 1/10000 [00:03<10:39:44,  3.84s/it]"
          ]
        },
        {
          "name": "stdout",
          "output_type": "stream",
          "text": [
            "wandb logging...\n",
            "Epoch 1/10000 [Time: 3.84s], Train Loss: 2.8137, Validation Loss: 3.97926539\n",
            " Train ACC: 17.69%, Validation ACC: 6.36%\n",
            " Train F1: 0.1633, Validation F1: 0.0070\n"
          ]
        },
        {
          "name": "stderr",
          "output_type": "stream",
          "text": [
            "  0%|          | 2/10000 [00:06<9:06:37,  3.28s/it] "
          ]
        },
        {
          "name": "stdout",
          "output_type": "stream",
          "text": [
            "wandb logging...\n"
          ]
        },
        {
          "name": "stderr",
          "output_type": "stream",
          "text": [
            "  0%|          | 3/10000 [00:09<8:23:16,  3.02s/it]"
          ]
        },
        {
          "name": "stdout",
          "output_type": "stream",
          "text": [
            "wandb logging...\n"
          ]
        },
        {
          "name": "stderr",
          "output_type": "stream",
          "text": [
            "  0%|          | 4/10000 [00:12<8:01:01,  2.89s/it]"
          ]
        },
        {
          "name": "stdout",
          "output_type": "stream",
          "text": [
            "wandb logging...\n"
          ]
        },
        {
          "name": "stderr",
          "output_type": "stream",
          "text": [
            "  0%|          | 5/10000 [00:14<7:50:18,  2.82s/it]"
          ]
        },
        {
          "name": "stdout",
          "output_type": "stream",
          "text": [
            "wandb logging...\n"
          ]
        },
        {
          "name": "stderr",
          "output_type": "stream",
          "text": [
            "  0%|          | 6/10000 [00:17<7:47:34,  2.81s/it]"
          ]
        },
        {
          "name": "stdout",
          "output_type": "stream",
          "text": [
            "wandb logging...\n"
          ]
        },
        {
          "name": "stderr",
          "output_type": "stream",
          "text": [
            "  0%|          | 7/10000 [00:20<7:51:22,  2.83s/it]"
          ]
        },
        {
          "name": "stdout",
          "output_type": "stream",
          "text": [
            "wandb logging...\n"
          ]
        },
        {
          "name": "stderr",
          "output_type": "stream",
          "text": [
            "  0%|          | 8/10000 [00:23<7:41:47,  2.77s/it]"
          ]
        },
        {
          "name": "stdout",
          "output_type": "stream",
          "text": [
            "wandb logging...\n"
          ]
        },
        {
          "name": "stderr",
          "output_type": "stream",
          "text": [
            "  0%|          | 9/10000 [00:25<7:35:22,  2.73s/it]"
          ]
        },
        {
          "name": "stdout",
          "output_type": "stream",
          "text": [
            "wandb logging...\n"
          ]
        },
        {
          "name": "stderr",
          "output_type": "stream",
          "text": [
            "  0%|          | 10/10000 [00:28<7:29:12,  2.70s/it]"
          ]
        },
        {
          "name": "stdout",
          "output_type": "stream",
          "text": [
            "wandb logging...\n"
          ]
        },
        {
          "name": "stderr",
          "output_type": "stream",
          "text": [
            "  0%|          | 11/10000 [00:31<7:30:47,  2.71s/it]"
          ]
        },
        {
          "name": "stdout",
          "output_type": "stream",
          "text": [
            "wandb logging...\n"
          ]
        },
        {
          "name": "stderr",
          "output_type": "stream",
          "text": [
            "  0%|          | 12/10000 [00:33<7:30:24,  2.71s/it]"
          ]
        },
        {
          "name": "stdout",
          "output_type": "stream",
          "text": [
            "wandb logging...\n"
          ]
        },
        {
          "name": "stderr",
          "output_type": "stream",
          "text": [
            "  0%|          | 13/10000 [00:36<7:29:29,  2.70s/it]"
          ]
        },
        {
          "name": "stdout",
          "output_type": "stream",
          "text": [
            "wandb logging...\n"
          ]
        },
        {
          "name": "stderr",
          "output_type": "stream",
          "text": [
            "  0%|          | 14/10000 [00:39<7:34:39,  2.73s/it]"
          ]
        },
        {
          "name": "stdout",
          "output_type": "stream",
          "text": [
            "wandb logging...\n"
          ]
        },
        {
          "name": "stderr",
          "output_type": "stream",
          "text": [
            "  0%|          | 15/10000 [00:42<7:32:37,  2.72s/it]"
          ]
        },
        {
          "name": "stdout",
          "output_type": "stream",
          "text": [
            "wandb logging...\n",
            "Epoch 15/10000 [Time: 2.70s], Train Loss: 0.3833, Validation Loss: 1.16984632\n",
            " Train ACC: 87.26%, Validation ACC: 66.53%\n",
            " Train F1: 0.8644, Validation F1: 0.6468\n"
          ]
        },
        {
          "name": "stderr",
          "output_type": "stream",
          "text": [
            "  0%|          | 16/10000 [00:44<7:34:58,  2.73s/it]"
          ]
        },
        {
          "name": "stdout",
          "output_type": "stream",
          "text": [
            "wandb logging...\n"
          ]
        },
        {
          "name": "stderr",
          "output_type": "stream",
          "text": [
            "  0%|          | 17/10000 [00:47<7:32:10,  2.72s/it]"
          ]
        },
        {
          "name": "stdout",
          "output_type": "stream",
          "text": [
            "wandb logging...\n"
          ]
        },
        {
          "name": "stderr",
          "output_type": "stream",
          "text": [
            "  0%|          | 18/10000 [00:50<7:32:00,  2.72s/it]"
          ]
        },
        {
          "name": "stdout",
          "output_type": "stream",
          "text": [
            "wandb logging...\n"
          ]
        },
        {
          "name": "stderr",
          "output_type": "stream",
          "text": [
            "  0%|          | 19/10000 [00:52<7:31:00,  2.71s/it]"
          ]
        },
        {
          "name": "stdout",
          "output_type": "stream",
          "text": [
            "wandb logging...\n"
          ]
        },
        {
          "name": "stderr",
          "output_type": "stream",
          "text": [
            "  0%|          | 20/10000 [00:55<7:29:54,  2.70s/it]"
          ]
        },
        {
          "name": "stdout",
          "output_type": "stream",
          "text": [
            "wandb logging...\n"
          ]
        },
        {
          "name": "stderr",
          "output_type": "stream",
          "text": [
            "  0%|          | 21/10000 [00:58<7:30:44,  2.71s/it]"
          ]
        },
        {
          "name": "stdout",
          "output_type": "stream",
          "text": [
            "wandb logging...\n"
          ]
        },
        {
          "name": "stderr",
          "output_type": "stream",
          "text": [
            "  0%|          | 22/10000 [01:00<7:30:32,  2.71s/it]"
          ]
        },
        {
          "name": "stdout",
          "output_type": "stream",
          "text": [
            "wandb logging...\n"
          ]
        },
        {
          "name": "stderr",
          "output_type": "stream",
          "text": [
            "  0%|          | 23/10000 [01:03<7:29:44,  2.70s/it]"
          ]
        },
        {
          "name": "stdout",
          "output_type": "stream",
          "text": [
            "wandb logging...\n"
          ]
        },
        {
          "name": "stderr",
          "output_type": "stream",
          "text": [
            "  0%|          | 24/10000 [01:06<7:28:47,  2.70s/it]"
          ]
        },
        {
          "name": "stdout",
          "output_type": "stream",
          "text": [
            "wandb logging...\n"
          ]
        },
        {
          "name": "stderr",
          "output_type": "stream",
          "text": [
            "  0%|          | 25/10000 [01:09<7:35:53,  2.74s/it]"
          ]
        },
        {
          "name": "stdout",
          "output_type": "stream",
          "text": [
            "wandb logging...\n"
          ]
        },
        {
          "name": "stderr",
          "output_type": "stream",
          "text": [
            "  0%|          | 26/10000 [01:11<7:33:33,  2.73s/it]"
          ]
        },
        {
          "name": "stdout",
          "output_type": "stream",
          "text": [
            "wandb logging...\n"
          ]
        },
        {
          "name": "stderr",
          "output_type": "stream",
          "text": [
            "  0%|          | 27/10000 [01:14<7:32:17,  2.72s/it]"
          ]
        },
        {
          "name": "stdout",
          "output_type": "stream",
          "text": [
            "wandb logging...\n"
          ]
        },
        {
          "name": "stderr",
          "output_type": "stream",
          "text": [
            "  0%|          | 28/10000 [01:17<7:28:40,  2.70s/it]"
          ]
        },
        {
          "name": "stdout",
          "output_type": "stream",
          "text": [
            "wandb logging...\n"
          ]
        },
        {
          "name": "stderr",
          "output_type": "stream",
          "text": [
            "  0%|          | 29/10000 [01:20<7:36:19,  2.75s/it]"
          ]
        },
        {
          "name": "stdout",
          "output_type": "stream",
          "text": [
            "wandb logging...\n"
          ]
        },
        {
          "name": "stderr",
          "output_type": "stream",
          "text": [
            "  0%|          | 30/10000 [01:22<7:31:32,  2.72s/it]"
          ]
        },
        {
          "name": "stdout",
          "output_type": "stream",
          "text": [
            "wandb logging...\n",
            "Epoch 30/10000 [Time: 2.71s], Train Loss: 0.0354, Validation Loss: 1.60139812\n",
            " Train ACC: 99.33%, Validation ACC: 67.37%\n",
            " Train F1: 0.9929, Validation F1: 0.6467\n"
          ]
        },
        {
          "name": "stderr",
          "output_type": "stream",
          "text": [
            "  0%|          | 31/10000 [01:25<7:28:17,  2.70s/it]"
          ]
        },
        {
          "name": "stdout",
          "output_type": "stream",
          "text": [
            "wandb logging...\n"
          ]
        },
        {
          "name": "stderr",
          "output_type": "stream",
          "text": [
            "  0%|          | 32/10000 [01:28<7:27:55,  2.70s/it]"
          ]
        },
        {
          "name": "stdout",
          "output_type": "stream",
          "text": [
            "wandb logging...\n"
          ]
        },
        {
          "name": "stderr",
          "output_type": "stream",
          "text": [
            "  0%|          | 33/10000 [01:30<7:28:12,  2.70s/it]"
          ]
        },
        {
          "name": "stdout",
          "output_type": "stream",
          "text": [
            "wandb logging...\n"
          ]
        },
        {
          "name": "stderr",
          "output_type": "stream",
          "text": [
            "  0%|          | 34/10000 [01:33<7:29:22,  2.71s/it]"
          ]
        },
        {
          "name": "stdout",
          "output_type": "stream",
          "text": [
            "wandb logging...\n"
          ]
        },
        {
          "name": "stderr",
          "output_type": "stream",
          "text": [
            "  0%|          | 35/10000 [01:36<7:30:14,  2.71s/it]"
          ]
        },
        {
          "name": "stdout",
          "output_type": "stream",
          "text": [
            "wandb logging...\n"
          ]
        },
        {
          "name": "stderr",
          "output_type": "stream",
          "text": [
            "  0%|          | 36/10000 [01:39<7:34:29,  2.74s/it]"
          ]
        },
        {
          "name": "stdout",
          "output_type": "stream",
          "text": [
            "wandb logging...\n"
          ]
        },
        {
          "name": "stderr",
          "output_type": "stream",
          "text": [
            "  0%|          | 37/10000 [01:41<7:32:11,  2.72s/it]"
          ]
        },
        {
          "name": "stdout",
          "output_type": "stream",
          "text": [
            "wandb logging...\n"
          ]
        },
        {
          "name": "stderr",
          "output_type": "stream",
          "text": [
            "  0%|          | 38/10000 [01:44<7:35:26,  2.74s/it]"
          ]
        },
        {
          "name": "stdout",
          "output_type": "stream",
          "text": [
            "wandb logging...\n"
          ]
        },
        {
          "name": "stderr",
          "output_type": "stream",
          "text": [
            "  0%|          | 39/10000 [01:47<7:29:36,  2.71s/it]"
          ]
        },
        {
          "name": "stdout",
          "output_type": "stream",
          "text": [
            "wandb logging...\n"
          ]
        },
        {
          "name": "stderr",
          "output_type": "stream",
          "text": [
            "  0%|          | 40/10000 [01:50<7:43:08,  2.79s/it]"
          ]
        },
        {
          "name": "stdout",
          "output_type": "stream",
          "text": [
            "wandb logging...\n"
          ]
        },
        {
          "name": "stderr",
          "output_type": "stream",
          "text": [
            "  0%|          | 41/10000 [01:52<7:38:42,  2.76s/it]"
          ]
        },
        {
          "name": "stdout",
          "output_type": "stream",
          "text": [
            "wandb logging...\n"
          ]
        },
        {
          "name": "stderr",
          "output_type": "stream",
          "text": [
            "  0%|          | 42/10000 [01:55<7:38:25,  2.76s/it]"
          ]
        },
        {
          "name": "stdout",
          "output_type": "stream",
          "text": [
            "wandb logging...\n"
          ]
        },
        {
          "name": "stderr",
          "output_type": "stream",
          "text": [
            "  0%|          | 43/10000 [01:58<7:35:29,  2.74s/it]"
          ]
        },
        {
          "name": "stdout",
          "output_type": "stream",
          "text": [
            "wandb logging...\n"
          ]
        },
        {
          "name": "stderr",
          "output_type": "stream",
          "text": [
            "  0%|          | 44/10000 [02:01<7:38:59,  2.77s/it]"
          ]
        },
        {
          "name": "stdout",
          "output_type": "stream",
          "text": [
            "wandb logging...\n"
          ]
        },
        {
          "name": "stderr",
          "output_type": "stream",
          "text": [
            "  0%|          | 45/10000 [02:03<7:37:10,  2.76s/it]"
          ]
        },
        {
          "name": "stdout",
          "output_type": "stream",
          "text": [
            "wandb logging...\n",
            "Epoch 45/10000 [Time: 2.74s], Train Loss: 0.0180, Validation Loss: 1.90098403\n",
            " Train ACC: 99.48%, Validation ACC: 65.25%\n",
            " Train F1: 0.9946, Validation F1: 0.6080\n"
          ]
        },
        {
          "name": "stderr",
          "output_type": "stream",
          "text": [
            "  0%|          | 46/10000 [02:06<7:34:27,  2.74s/it]"
          ]
        },
        {
          "name": "stdout",
          "output_type": "stream",
          "text": [
            "wandb logging...\n"
          ]
        },
        {
          "name": "stderr",
          "output_type": "stream",
          "text": [
            "  0%|          | 47/10000 [02:09<7:36:44,  2.75s/it]"
          ]
        },
        {
          "name": "stdout",
          "output_type": "stream",
          "text": [
            "wandb logging...\n"
          ]
        },
        {
          "name": "stderr",
          "output_type": "stream",
          "text": [
            "  0%|          | 48/10000 [02:12<7:43:39,  2.80s/it]"
          ]
        },
        {
          "name": "stdout",
          "output_type": "stream",
          "text": [
            "wandb logging...\n"
          ]
        },
        {
          "name": "stderr",
          "output_type": "stream",
          "text": [
            "  0%|          | 49/10000 [02:15<7:41:32,  2.78s/it]"
          ]
        },
        {
          "name": "stdout",
          "output_type": "stream",
          "text": [
            "wandb logging...\n"
          ]
        },
        {
          "name": "stderr",
          "output_type": "stream",
          "text": [
            "  0%|          | 50/10000 [02:17<7:37:30,  2.76s/it]"
          ]
        },
        {
          "name": "stdout",
          "output_type": "stream",
          "text": [
            "wandb logging...\n"
          ]
        },
        {
          "name": "stderr",
          "output_type": "stream",
          "text": [
            "  1%|          | 51/10000 [02:20<7:39:23,  2.77s/it]"
          ]
        },
        {
          "name": "stdout",
          "output_type": "stream",
          "text": [
            "wandb logging...\n"
          ]
        },
        {
          "name": "stderr",
          "output_type": "stream",
          "text": [
            "  1%|          | 52/10000 [02:23<7:36:32,  2.75s/it]"
          ]
        },
        {
          "name": "stdout",
          "output_type": "stream",
          "text": [
            "wandb logging...\n"
          ]
        },
        {
          "name": "stderr",
          "output_type": "stream",
          "text": [
            "  1%|          | 53/10000 [02:25<7:34:32,  2.74s/it]"
          ]
        },
        {
          "name": "stdout",
          "output_type": "stream",
          "text": [
            "wandb logging...\n"
          ]
        },
        {
          "name": "stderr",
          "output_type": "stream",
          "text": [
            "  1%|          | 54/10000 [02:28<7:36:20,  2.75s/it]"
          ]
        },
        {
          "name": "stdout",
          "output_type": "stream",
          "text": [
            "wandb logging...\n"
          ]
        },
        {
          "name": "stderr",
          "output_type": "stream",
          "text": [
            "  1%|          | 55/10000 [02:31<7:32:37,  2.73s/it]"
          ]
        },
        {
          "name": "stdout",
          "output_type": "stream",
          "text": [
            "wandb logging...\n"
          ]
        },
        {
          "name": "stderr",
          "output_type": "stream",
          "text": [
            "  1%|          | 56/10000 [02:34<7:33:03,  2.73s/it]"
          ]
        },
        {
          "name": "stdout",
          "output_type": "stream",
          "text": [
            "wandb logging...\n"
          ]
        },
        {
          "name": "stderr",
          "output_type": "stream",
          "text": [
            "  1%|          | 57/10000 [02:36<7:30:37,  2.72s/it]"
          ]
        },
        {
          "name": "stdout",
          "output_type": "stream",
          "text": [
            "wandb logging...\n"
          ]
        },
        {
          "name": "stderr",
          "output_type": "stream",
          "text": [
            "  1%|          | 58/10000 [02:39<7:34:40,  2.74s/it]"
          ]
        },
        {
          "name": "stdout",
          "output_type": "stream",
          "text": [
            "wandb logging...\n"
          ]
        },
        {
          "name": "stderr",
          "output_type": "stream",
          "text": [
            "  1%|          | 59/10000 [02:42<7:32:03,  2.73s/it]"
          ]
        },
        {
          "name": "stdout",
          "output_type": "stream",
          "text": [
            "wandb logging...\n"
          ]
        },
        {
          "name": "stderr",
          "output_type": "stream",
          "text": [
            "  1%|          | 60/10000 [02:45<7:32:42,  2.73s/it]"
          ]
        },
        {
          "name": "stdout",
          "output_type": "stream",
          "text": [
            "wandb logging...\n",
            "Epoch 60/10000 [Time: 2.74s], Train Loss: 0.0865, Validation Loss: 2.00003387\n",
            " Train ACC: 97.30%, Validation ACC: 67.37%\n",
            " Train F1: 0.9727, Validation F1: 0.6532\n"
          ]
        },
        {
          "name": "stderr",
          "output_type": "stream",
          "text": [
            "  1%|          | 61/10000 [02:47<7:33:26,  2.74s/it]"
          ]
        },
        {
          "name": "stdout",
          "output_type": "stream",
          "text": [
            "wandb logging...\n"
          ]
        },
        {
          "name": "stderr",
          "output_type": "stream",
          "text": [
            "  1%|          | 62/10000 [02:50<7:35:39,  2.75s/it]"
          ]
        },
        {
          "name": "stdout",
          "output_type": "stream",
          "text": [
            "wandb logging...\n"
          ]
        },
        {
          "name": "stderr",
          "output_type": "stream",
          "text": [
            "  1%|          | 63/10000 [02:53<7:31:20,  2.73s/it]"
          ]
        },
        {
          "name": "stdout",
          "output_type": "stream",
          "text": [
            "wandb logging...\n"
          ]
        },
        {
          "name": "stderr",
          "output_type": "stream",
          "text": [
            "  1%|          | 64/10000 [02:55<7:30:06,  2.72s/it]"
          ]
        },
        {
          "name": "stdout",
          "output_type": "stream",
          "text": [
            "wandb logging...\n"
          ]
        },
        {
          "name": "stderr",
          "output_type": "stream",
          "text": [
            "  1%|          | 65/10000 [02:58<7:35:21,  2.75s/it]"
          ]
        },
        {
          "name": "stdout",
          "output_type": "stream",
          "text": [
            "wandb logging...\n"
          ]
        },
        {
          "name": "stderr",
          "output_type": "stream",
          "text": [
            "\n"
          ]
        },
        {
          "data": {
            "text/plain": [
              "True"
            ]
          },
          "execution_count": 18,
          "metadata": {},
          "output_type": "execute_result"
        }
      ],
      "source": [
        "# wandb watch >> layer가 깊으면 어차피 시각화해서 보기 어려움;;\n",
        "# if WB:\n",
        "#     run.watch(\n",
        "#         models=trainer.model,\n",
        "#         criterion=trainer.criterion,\n",
        "#         log='all',\n",
        "#         log_graph=True\n",
        "#     )\n",
        "# run train\n",
        "trainer.training_loop()"
      ]
    },
    {
      "cell_type": "markdown",
      "metadata": {
        "id": "lkwxRXoBpbaX"
      },
      "source": [
        "# 6. Inference & Save File\n",
        "* 테스트 이미지에 대한 추론을 진행하고, 결과 파일을 저장합니다."
      ]
    },
    {
      "cell_type": "code",
      "execution_count": 19,
      "metadata": {},
      "outputs": [],
      "source": [
        "### 저장된 trainer를 로드하여 추론하는 경우 아래 함수로 로드\n",
        "def load_checkpoint_model(savepath=None):\n",
        "    if os.path.exists(savepath):\n",
        "        checkpoint = torch.load(savepath)\n",
        "        cfg = SimpleNamespace(**checkpoint['cfg'])\n",
        "        model = get_timm_model(cfg)\n",
        "        model.load_state_dict(checkpoint['model_state_dict'])\n",
        "        return model, cfg\n",
        "    else:\n",
        "        return None\n",
        "    \n",
        "# model, cfg = load_checkpoint_model(\n",
        "#     savepath=os.path.join(project_root,'models','resnetrs101.tf_in1k-opt_Adam-img224-aug_0-2506301324-0001.pth')\n",
        "# )"
      ]
    },
    {
      "cell_type": "code",
      "execution_count": 20,
      "metadata": {
        "colab": {
          "base_uri": "https://localhost:8080/"
        },
        "id": "uRYe6jlPU_Om",
        "outputId": "2a08690c-9ffe-418d-8679-eb9280147110"
      },
      "outputs": [
        {
          "name": "stderr",
          "output_type": "stream",
          "text": [
            "100%|██████████| 50/50 [00:13<00:00,  3.79it/s]\n"
          ]
        }
      ],
      "source": [
        "preds_list = []\n",
        "\n",
        "trainer.model.eval()\n",
        "for image, _ in tqdm(test_loader):\n",
        "    image = image.to(device)\n",
        "\n",
        "    with torch.no_grad():\n",
        "        preds = trainer.model(image)\n",
        "    preds_list.extend(preds.argmax(dim=1).detach().cpu().numpy())\n",
        "\n",
        "### checkpoint로 로드한 모델로 추론하는 경우\n",
        "# model.eval()\n",
        "# for image, _ in tqdm(test_loader):\n",
        "#     image = image.to(device)\n",
        "\n",
        "#     with torch.no_grad():\n",
        "#         preds = model(image)\n",
        "#     preds_list.extend(preds.argmax(dim=1).detach().cpu().numpy())    "
      ]
    },
    {
      "cell_type": "code",
      "execution_count": 22,
      "metadata": {
        "id": "aClN7Qi7VZoh"
      },
      "outputs": [],
      "source": [
        "pred_df = pd.DataFrame(test_dataset.df, columns=['ID', 'target'])\n",
        "pred_df['target'] = preds_list"
      ]
    },
    {
      "cell_type": "code",
      "execution_count": 23,
      "metadata": {
        "id": "VDBXQqAzVvLY"
      },
      "outputs": [],
      "source": [
        "sample_submission_df = pd.read_csv(os.path.join(data_dir, \"sample_submission.csv\"))\n",
        "assert (sample_submission_df['ID'] == pred_df['ID']).all(), \"pred_df에서 test 이미지가 아닌 데이터가 존재합니다.\"\n",
        "assert set(pred_df['target']).issubset(set(range(17))), \"target 컬럼에 0~16 외의 값이 있습니다.\""
      ]
    },
    {
      "cell_type": "code",
      "execution_count": 24,
      "metadata": {},
      "outputs": [
        {
          "name": "stdout",
          "output_type": "stream",
          "text": [
            "저장할 Submission 파일 이름: resnetrs101.tf_in1k-opt_Adam-img224-aug_0-2507010210-0002.csv\n"
          ]
        }
      ],
      "source": [
        "print(f'저장할 Submission 파일 이름: {next_run_name}.csv')"
      ]
    },
    {
      "cell_type": "code",
      "execution_count": 25,
      "metadata": {},
      "outputs": [],
      "source": [
        "### submission 파일 저장\n",
        "pred_df.to_csv(os.path.join(data_dir, 'submissions', f'{next_run_name}.csv'), index=False)"
      ]
    },
    {
      "cell_type": "code",
      "execution_count": 113,
      "metadata": {},
      "outputs": [
        {
          "data": {
            "text/plain": [
              "True"
            ]
          },
          "execution_count": 113,
          "metadata": {},
          "output_type": "execute_result"
        }
      ],
      "source": [
        "### trainer 저장\n",
        "trainer_savepath = os.path.join(project_root, \"models\", f\"{next_run_name}.pth\")\n",
        "trainer.save_experiments(savepath=trainer_savepath)"
      ]
    },
    {
      "cell_type": "markdown",
      "metadata": {},
      "source": [
        "## 7. 학습 loss plot & 추론 결과 확인"
      ]
    },
    {
      "cell_type": "code",
      "execution_count": 26,
      "metadata": {
        "id": "ePx2vCELVnuS"
      },
      "outputs": [
        {
          "data": {
            "image/png": "[encoded data removed]",
            "text/plain": [
              "<Figure size 600x400 with 1 Axes>"
            ]
          },
          "metadata": {},
          "output_type": "display_data"
        },
        {
          "data": {
            "text/plain": [
              "<Figure size 640x480 with 0 Axes>"
            ]
          },
          "metadata": {},
          "output_type": "display_data"
        },
        {
          "data": {
            "image/png": "[encoded data removed]",
            "text/plain": [
              "<Figure size 600x400 with 1 Axes>"
            ]
          },
          "metadata": {},
          "output_type": "display_data"
        },
        {
          "data": {
            "text/plain": [
              "<Figure size 640x480 with 0 Axes>"
            ]
          },
          "metadata": {},
          "output_type": "display_data"
        },
        {
          "data": {
            "image/png": "[encoded data removed]",
            "text/plain": [
              "<Figure size 600x400 with 1 Axes>"
            ]
          },
          "metadata": {},
          "output_type": "display_data"
        },
        {
          "data": {
            "text/plain": [
              "<Figure size 640x480 with 0 Axes>"
            ]
          },
          "metadata": {},
          "output_type": "display_data"
        }
      ],
      "source": [
        "# loss, accuracy, f1 plot 시각화 & wandb 저장\n",
        "trainer.plot_loss(\n",
        "    show=True,\n",
        "    savewandb=True,\n",
        "    savedir=None # 저장 안 함\n",
        ")"
      ]
    },
    {
      "cell_type": "code",
      "execution_count": 104,
      "metadata": {
        "colab": {
          "base_uri": "https://localhost:8080/",
          "height": 206
        },
        "id": "9yMO8s6GqAwZ",
        "outputId": "9a30616f-f0ea-439f-a906-dd806737ce00"
      },
      "outputs": [
        {
          "data": {
            "text/html": [
              "<div>\n",
              "<style scoped>\n",
              "    .dataframe tbody tr th:only-of-type {\n",
              "        vertical-align: middle;\n",
              "    }\n",
              "\n",
              "    .dataframe tbody tr th {\n",
              "        vertical-align: top;\n",
              "    }\n",
              "\n",
              "    .dataframe thead th {\n",
              "        text-align: right;\n",
              "    }\n",
              "</style>\n",
              "<table border=\"1\" class=\"dataframe\">\n",
              "  <thead>\n",
              "    <tr style=\"text-align: right;\">\n",
              "      <th></th>\n",
              "      <th>ID</th>\n",
              "      <th>target</th>\n",
              "    </tr>\n",
              "  </thead>\n",
              "  <tbody>\n",
              "    <tr>\n",
              "      <th>111</th>\n",
              "      <td>0a4f2decf34d3bff.jpg</td>\n",
              "      <td>2</td>\n",
              "    </tr>\n",
              "  </tbody>\n",
              "</table>\n",
              "</div>"
            ],
            "text/plain": [
              "                       ID  target\n",
              "111  0a4f2decf34d3bff.jpg       2"
            ]
          },
          "metadata": {},
          "output_type": "display_data"
        },
        {
          "data": {
            "text/html": [
              "<div>\n",
              "<style scoped>\n",
              "    .dataframe tbody tr th:only-of-type {\n",
              "        vertical-align: middle;\n",
              "    }\n",
              "\n",
              "    .dataframe tbody tr th {\n",
              "        vertical-align: top;\n",
              "    }\n",
              "\n",
              "    .dataframe thead th {\n",
              "        text-align: right;\n",
              "    }\n",
              "</style>\n",
              "<table border=\"1\" class=\"dataframe\">\n",
              "  <thead>\n",
              "    <tr style=\"text-align: right;\">\n",
              "      <th></th>\n",
              "      <th>ID</th>\n",
              "      <th>target</th>\n",
              "    </tr>\n",
              "  </thead>\n",
              "  <tbody>\n",
              "    <tr>\n",
              "      <th>108</th>\n",
              "      <td>0a12d28777501f71.jpg</td>\n",
              "      <td>16</td>\n",
              "    </tr>\n",
              "  </tbody>\n",
              "</table>\n",
              "</div>"
            ],
            "text/plain": [
              "                       ID  target\n",
              "108  0a12d28777501f71.jpg      16"
            ]
          },
          "metadata": {},
          "output_type": "display_data"
        },
        {
          "data": {
            "text/html": [
              "<div>\n",
              "<style scoped>\n",
              "    .dataframe tbody tr th:only-of-type {\n",
              "        vertical-align: middle;\n",
              "    }\n",
              "\n",
              "    .dataframe tbody tr th {\n",
              "        vertical-align: top;\n",
              "    }\n",
              "\n",
              "    .dataframe thead th {\n",
              "        text-align: right;\n",
              "    }\n",
              "</style>\n",
              "<table border=\"1\" class=\"dataframe\">\n",
              "  <thead>\n",
              "    <tr style=\"text-align: right;\">\n",
              "      <th></th>\n",
              "      <th>ID</th>\n",
              "      <th>target</th>\n",
              "    </tr>\n",
              "  </thead>\n",
              "  <tbody>\n",
              "    <tr>\n",
              "      <th>126</th>\n",
              "      <td>0b60e9d39b43e0b9.jpg</td>\n",
              "      <td>11</td>\n",
              "    </tr>\n",
              "  </tbody>\n",
              "</table>\n",
              "</div>"
            ],
            "text/plain": [
              "                       ID  target\n",
              "126  0b60e9d39b43e0b9.jpg      11"
            ]
          },
          "metadata": {},
          "output_type": "display_data"
        }
      ],
      "source": [
        "display(pred_df[pred_df['ID']=='0a4f2decf34d3bff.jpg'])\n",
        "display(pred_df[pred_df['ID']=='0a12d28777501f71.jpg'])\n",
        "display(pred_df[pred_df['ID']=='0b60e9d39b43e0b9.jpg'])"
      ]
    },
    {
      "cell_type": "markdown",
      "metadata": {},
      "source": [
        "## 8. WandB Finish"
      ]
    },
    {
      "cell_type": "code",
      "execution_count": 27,
      "metadata": {},
      "outputs": [
        {
          "data": {
            "text/html": [],
            "text/plain": [
              "<IPython.core.display.HTML object>"
            ]
          },
          "metadata": {},
          "output_type": "display_data"
        },
        {
          "data": {
            "text/html": [
              "<br>    <style><br>        .wandb-row {<br>            display: flex;<br>            flex-direction: row;<br>            flex-wrap: wrap;<br>            justify-content: flex-start;<br>            width: 100%;<br>        }<br>        .wandb-col {<br>            display: flex;<br>            flex-direction: column;<br>            flex-basis: 100%;<br>            flex: 1;<br>            padding: 10px;<br>        }<br>    </style><br><div class=\"wandb-row\"><div class=\"wandb-col\"><h3>Run history:</h3><br/><table class=\"wandb\"><tr><td>train_accuracy</td><td>▁▄▄▅▅▆▆▇▇▇██████████████████████████████</td></tr><tr><td>train_f1</td><td>▁▂▄▄▅▅▅▆▆▇██████████████████████████████</td></tr><tr><td>train_loss</td><td>█▇▆▆▅▄▄▂▂▁▂▁▁▁▁▁▁▁▁▁▁▁▁▁▁▁▁▁▁▁▁▁▁▁▁▁▁▁▁▁</td></tr><tr><td>val_accuracy</td><td>▁▁▄▅▆▆▇▇▇▇▇█▇▇▇▇▇████████▇███▇█████▇████</td></tr><tr><td>val_f1</td><td>▁▁▆▆▇▇▇▇██▇████████████▇▇█▇▇████▇█▇▇████</td></tr><tr><td>val_loss</td><td>▇█▂▂▁▂▁▁▁▁▂▁▃▁▁▁▂▂▂▂▂▂▁▂▂▂▂▂▂▂▂▂▂▃▂▂▃▃▂▂</td></tr></table><br/></div><div class=\"wandb-col\"><h3>Run summary:</h3><br/><table class=\"wandb\"><tr><td>train_accuracy</td><td>98.8006</td></tr><tr><td>train_f1</td><td>0.98775</td></tr><tr><td>train_loss</td><td>0.03263</td></tr><tr><td>val_accuracy</td><td>68.64407</td></tr><tr><td>val_f1</td><td>0.67556</td></tr><tr><td>val_loss</td><td>1.788</td></tr></table><br/></div></div>"
            ],
            "text/plain": [
              "<IPython.core.display.HTML object>"
            ]
          },
          "metadata": {},
          "output_type": "display_data"
        },
        {
          "data": {
            "text/html": [
              " View run <strong style=\"color:#cdcd00\">resnetrs101.tf_in1k-opt_Adam-img224-aug_0-2507010210-0002</strong> at: <a href='https://wandb.ai/skiersong/upstage-img-clf/runs/mfvyiget' target=\"_blank\">https://wandb.ai/skiersong/upstage-img-clf/runs/mfvyiget</a><br> View project at: <a href='https://wandb.ai/skiersong/upstage-img-clf' target=\"_blank\">https://wandb.ai/skiersong/upstage-img-clf</a><br>Synced 5 W&B file(s), 4 media file(s), 0 artifact file(s) and 0 other file(s)"
            ],
            "text/plain": [
              "<IPython.core.display.HTML object>"
            ]
          },
          "metadata": {},
          "output_type": "display_data"
        },
        {
          "data": {
            "text/html": [
              "Find logs at: <code>./wandb/run-20250701_032726-mfvyiget/logs</code>"
            ],
            "text/plain": [
              "<IPython.core.display.HTML object>"
            ]
          },
          "metadata": {},
          "output_type": "display_data"
        }
      ],
      "source": [
        "run.finish()"
      ]
    },
    {
      "cell_type": "code",
      "execution_count": 29,
      "metadata": {},
      "outputs": [
        {
          "data": {
            "text/plain": [
              "'resnetrs101.tf_in1k-opt_Adam-img224-aug_0-2507010210-0002'"
            ]
          },
          "execution_count": 29,
          "metadata": {},
          "output_type": "execute_result"
        }
      ],
      "source": []
    }
  ],
  "metadata": {
    "accelerator": "GPU",
    "colab": {
      "provenance": []
    },
    "kernelspec": {
      "display_name": "base",
      "language": "python",
      "name": "python3"
    },
    "language_info": {
      "codemirror_mode": {
        "name": "ipython",
        "version": 3
      },
      "file_extension": ".py",
      "mimetype": "text/x-python",
      "name": "python",
      "nbconvert_exporter": "python",
      "pygments_lexer": "ipython3",
      "version": "3.10.13"
    }
  },
  "nbformat": 4,
  "nbformat_minor": 0
}
